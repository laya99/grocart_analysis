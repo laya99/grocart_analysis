{
  "nbformat": 4,
  "nbformat_minor": 0,
  "metadata": {
    "colab": {
      "name": "Cart Analysis.ipynb",
      "provenance": [],
      "collapsed_sections": []
    },
    "kernelspec": {
      "name": "python3",
      "display_name": "Python 3"
    },
    "accelerator": "GPU"
  },
  "cells": [
    {
      "cell_type": "code",
      "metadata": {
        "id": "owqcLh1SMhwC",
        "colab_type": "code",
        "colab": {}
      },
      "source": [
        "import pandas as pd \n",
        "from sklearn.model_selection import train_test_split"
      ],
      "execution_count": 0,
      "outputs": []
    },
    {
      "cell_type": "code",
      "metadata": {
        "id": "7BC0vVF7MotA",
        "colab_type": "code",
        "outputId": "92d3d0da-a6cf-4acd-bed3-86d770523924",
        "colab": {
          "base_uri": "https://localhost:8080/",
          "height": 122
        }
      },
      "source": [
        "from google.colab import drive\n",
        "drive.mount('/content/drive')"
      ],
      "execution_count": 0,
      "outputs": [
        {
          "output_type": "stream",
          "text": [
            "Go to this URL in a browser: https://accounts.google.com/o/oauth2/auth?client_id=947318989803-6bn6qk8qdgf4n4g3pfee6491hc0brc4i.apps.googleusercontent.com&redirect_uri=urn%3aietf%3awg%3aoauth%3a2.0%3aoob&response_type=code&scope=email%20https%3a%2f%2fwww.googleapis.com%2fauth%2fdocs.test%20https%3a%2f%2fwww.googleapis.com%2fauth%2fdrive%20https%3a%2f%2fwww.googleapis.com%2fauth%2fdrive.photos.readonly%20https%3a%2f%2fwww.googleapis.com%2fauth%2fpeopleapi.readonly\n",
            "\n",
            "Enter your authorization code:\n",
            "··········\n",
            "Mounted at /content/drive\n"
          ],
          "name": "stdout"
        }
      ]
    },
    {
      "cell_type": "code",
      "metadata": {
        "id": "zUrnz41TMr_Z",
        "colab_type": "code",
        "colab": {}
      },
      "source": [
        "aisles = pd.read_csv('/content/drive/My Drive/Project_8/Dataset/aisles.csv')\n",
        "departments = pd.read_csv('/content/drive/My Drive/Project_8/Dataset/departments.csv')\n",
        "products = pd.read_csv('/content/drive/My Drive/Project_8/Dataset/products.csv')\n",
        "order_products_train = pd.read_csv('/content/drive/My Drive/Project_8/Dataset/order_products__train.csv')\n",
        "order_products_prior = pd.read_csv('/content/drive/My Drive/Project_8/Dataset/order_products__prior.csv')\n",
        "orders = pd.read_csv('/content/drive/My Drive/Project_8/Dataset/orders.csv')"
      ],
      "execution_count": 0,
      "outputs": []
    },
    {
      "cell_type": "code",
      "metadata": {
        "id": "snws0r_8M5a-",
        "colab_type": "code",
        "outputId": "0f85da5c-979a-4811-9c7b-c3f5993245ea",
        "colab": {
          "base_uri": "https://localhost:8080/",
          "height": 204
        }
      },
      "source": [
        "#creating a dataframe that will contain only prior information\n",
        "op = pd.merge(orders, order_products_prior, on='order_id', how='inner')\n",
        "op.head()"
      ],
      "execution_count": 0,
      "outputs": [
        {
          "output_type": "execute_result",
          "data": {
            "text/html": [
              "<div>\n",
              "<style scoped>\n",
              "    .dataframe tbody tr th:only-of-type {\n",
              "        vertical-align: middle;\n",
              "    }\n",
              "\n",
              "    .dataframe tbody tr th {\n",
              "        vertical-align: top;\n",
              "    }\n",
              "\n",
              "    .dataframe thead th {\n",
              "        text-align: right;\n",
              "    }\n",
              "</style>\n",
              "<table border=\"1\" class=\"dataframe\">\n",
              "  <thead>\n",
              "    <tr style=\"text-align: right;\">\n",
              "      <th></th>\n",
              "      <th>order_id</th>\n",
              "      <th>user_id</th>\n",
              "      <th>eval_set</th>\n",
              "      <th>order_number</th>\n",
              "      <th>order_dow</th>\n",
              "      <th>order_hour_of_day</th>\n",
              "      <th>days_since_prior_order</th>\n",
              "      <th>product_id</th>\n",
              "      <th>add_to_cart_order</th>\n",
              "      <th>reordered</th>\n",
              "    </tr>\n",
              "  </thead>\n",
              "  <tbody>\n",
              "    <tr>\n",
              "      <th>0</th>\n",
              "      <td>2539329</td>\n",
              "      <td>1</td>\n",
              "      <td>prior</td>\n",
              "      <td>1</td>\n",
              "      <td>2</td>\n",
              "      <td>8</td>\n",
              "      <td>NaN</td>\n",
              "      <td>196</td>\n",
              "      <td>1</td>\n",
              "      <td>0</td>\n",
              "    </tr>\n",
              "    <tr>\n",
              "      <th>1</th>\n",
              "      <td>2539329</td>\n",
              "      <td>1</td>\n",
              "      <td>prior</td>\n",
              "      <td>1</td>\n",
              "      <td>2</td>\n",
              "      <td>8</td>\n",
              "      <td>NaN</td>\n",
              "      <td>14084</td>\n",
              "      <td>2</td>\n",
              "      <td>0</td>\n",
              "    </tr>\n",
              "    <tr>\n",
              "      <th>2</th>\n",
              "      <td>2539329</td>\n",
              "      <td>1</td>\n",
              "      <td>prior</td>\n",
              "      <td>1</td>\n",
              "      <td>2</td>\n",
              "      <td>8</td>\n",
              "      <td>NaN</td>\n",
              "      <td>12427</td>\n",
              "      <td>3</td>\n",
              "      <td>0</td>\n",
              "    </tr>\n",
              "    <tr>\n",
              "      <th>3</th>\n",
              "      <td>2539329</td>\n",
              "      <td>1</td>\n",
              "      <td>prior</td>\n",
              "      <td>1</td>\n",
              "      <td>2</td>\n",
              "      <td>8</td>\n",
              "      <td>NaN</td>\n",
              "      <td>26088</td>\n",
              "      <td>4</td>\n",
              "      <td>0</td>\n",
              "    </tr>\n",
              "    <tr>\n",
              "      <th>4</th>\n",
              "      <td>2539329</td>\n",
              "      <td>1</td>\n",
              "      <td>prior</td>\n",
              "      <td>1</td>\n",
              "      <td>2</td>\n",
              "      <td>8</td>\n",
              "      <td>NaN</td>\n",
              "      <td>26405</td>\n",
              "      <td>5</td>\n",
              "      <td>0</td>\n",
              "    </tr>\n",
              "  </tbody>\n",
              "</table>\n",
              "</div>"
            ],
            "text/plain": [
              "   order_id  user_id eval_set  ...  product_id  add_to_cart_order  reordered\n",
              "0   2539329        1    prior  ...         196                  1          0\n",
              "1   2539329        1    prior  ...       14084                  2          0\n",
              "2   2539329        1    prior  ...       12427                  3          0\n",
              "3   2539329        1    prior  ...       26088                  4          0\n",
              "4   2539329        1    prior  ...       26405                  5          0\n",
              "\n",
              "[5 rows x 10 columns]"
            ]
          },
          "metadata": {
            "tags": []
          },
          "execution_count": 4
        }
      ]
    },
    {
      "cell_type": "markdown",
      "metadata": {
        "id": "hnLperyKRUoW",
        "colab_type": "text"
      },
      "source": [
        "Creating features related to the users. i.e using user_id"
      ]
    },
    {
      "cell_type": "code",
      "metadata": {
        "id": "Z_-bmEW1M8ci",
        "colab_type": "code",
        "outputId": "c52a1c6f-53e0-4fe7-a735-8d5c54c9280e",
        "colab": {
          "base_uri": "https://localhost:8080/",
          "height": 204
        }
      },
      "source": [
        "#Total number of orders placed by each users\n",
        "users = op.groupby(by='user_id')['order_number'].aggregate('max').to_frame('u_num_of_orders').reset_index()\n",
        "users.head()"
      ],
      "execution_count": 0,
      "outputs": [
        {
          "output_type": "execute_result",
          "data": {
            "text/html": [
              "<div>\n",
              "<style scoped>\n",
              "    .dataframe tbody tr th:only-of-type {\n",
              "        vertical-align: middle;\n",
              "    }\n",
              "\n",
              "    .dataframe tbody tr th {\n",
              "        vertical-align: top;\n",
              "    }\n",
              "\n",
              "    .dataframe thead th {\n",
              "        text-align: right;\n",
              "    }\n",
              "</style>\n",
              "<table border=\"1\" class=\"dataframe\">\n",
              "  <thead>\n",
              "    <tr style=\"text-align: right;\">\n",
              "      <th></th>\n",
              "      <th>user_id</th>\n",
              "      <th>u_num_of_orders</th>\n",
              "    </tr>\n",
              "  </thead>\n",
              "  <tbody>\n",
              "    <tr>\n",
              "      <th>0</th>\n",
              "      <td>1</td>\n",
              "      <td>10</td>\n",
              "    </tr>\n",
              "    <tr>\n",
              "      <th>1</th>\n",
              "      <td>2</td>\n",
              "      <td>14</td>\n",
              "    </tr>\n",
              "    <tr>\n",
              "      <th>2</th>\n",
              "      <td>3</td>\n",
              "      <td>12</td>\n",
              "    </tr>\n",
              "    <tr>\n",
              "      <th>3</th>\n",
              "      <td>4</td>\n",
              "      <td>5</td>\n",
              "    </tr>\n",
              "    <tr>\n",
              "      <th>4</th>\n",
              "      <td>5</td>\n",
              "      <td>4</td>\n",
              "    </tr>\n",
              "  </tbody>\n",
              "</table>\n",
              "</div>"
            ],
            "text/plain": [
              "   user_id  u_num_of_orders\n",
              "0        1               10\n",
              "1        2               14\n",
              "2        3               12\n",
              "3        4                5\n",
              "4        5                4"
            ]
          },
          "metadata": {
            "tags": []
          },
          "execution_count": 5
        }
      ]
    },
    {
      "cell_type": "code",
      "metadata": {
        "id": "81HZ9-lqNy3i",
        "colab_type": "code",
        "outputId": "33b9fc66-b582-4f28-c130-825e0ebd3c5d",
        "colab": {
          "base_uri": "https://localhost:8080/",
          "height": 359
        }
      },
      "source": [
        "#average number of products bought by the user in each purchase.\n",
        "\n",
        "#1. First getting the total number of products in each order.\n",
        "total_prd_per_order = op.groupby(by=['user_id', 'order_id'])['product_id'].aggregate('count').to_frame('total_products_per_order').reset_index()\n",
        "total_prd_per_order.head(10)\n"
      ],
      "execution_count": 0,
      "outputs": [
        {
          "output_type": "execute_result",
          "data": {
            "text/html": [
              "<div>\n",
              "<style scoped>\n",
              "    .dataframe tbody tr th:only-of-type {\n",
              "        vertical-align: middle;\n",
              "    }\n",
              "\n",
              "    .dataframe tbody tr th {\n",
              "        vertical-align: top;\n",
              "    }\n",
              "\n",
              "    .dataframe thead th {\n",
              "        text-align: right;\n",
              "    }\n",
              "</style>\n",
              "<table border=\"1\" class=\"dataframe\">\n",
              "  <thead>\n",
              "    <tr style=\"text-align: right;\">\n",
              "      <th></th>\n",
              "      <th>user_id</th>\n",
              "      <th>order_id</th>\n",
              "      <th>total_products_per_order</th>\n",
              "    </tr>\n",
              "  </thead>\n",
              "  <tbody>\n",
              "    <tr>\n",
              "      <th>0</th>\n",
              "      <td>1</td>\n",
              "      <td>431534</td>\n",
              "      <td>8</td>\n",
              "    </tr>\n",
              "    <tr>\n",
              "      <th>1</th>\n",
              "      <td>1</td>\n",
              "      <td>473747</td>\n",
              "      <td>5</td>\n",
              "    </tr>\n",
              "    <tr>\n",
              "      <th>2</th>\n",
              "      <td>1</td>\n",
              "      <td>550135</td>\n",
              "      <td>5</td>\n",
              "    </tr>\n",
              "    <tr>\n",
              "      <th>3</th>\n",
              "      <td>1</td>\n",
              "      <td>2254736</td>\n",
              "      <td>5</td>\n",
              "    </tr>\n",
              "    <tr>\n",
              "      <th>4</th>\n",
              "      <td>1</td>\n",
              "      <td>2295261</td>\n",
              "      <td>6</td>\n",
              "    </tr>\n",
              "    <tr>\n",
              "      <th>5</th>\n",
              "      <td>1</td>\n",
              "      <td>2398795</td>\n",
              "      <td>6</td>\n",
              "    </tr>\n",
              "    <tr>\n",
              "      <th>6</th>\n",
              "      <td>1</td>\n",
              "      <td>2539329</td>\n",
              "      <td>5</td>\n",
              "    </tr>\n",
              "    <tr>\n",
              "      <th>7</th>\n",
              "      <td>1</td>\n",
              "      <td>2550362</td>\n",
              "      <td>9</td>\n",
              "    </tr>\n",
              "    <tr>\n",
              "      <th>8</th>\n",
              "      <td>1</td>\n",
              "      <td>3108588</td>\n",
              "      <td>6</td>\n",
              "    </tr>\n",
              "    <tr>\n",
              "      <th>9</th>\n",
              "      <td>1</td>\n",
              "      <td>3367565</td>\n",
              "      <td>4</td>\n",
              "    </tr>\n",
              "  </tbody>\n",
              "</table>\n",
              "</div>"
            ],
            "text/plain": [
              "   user_id  order_id  total_products_per_order\n",
              "0        1    431534                         8\n",
              "1        1    473747                         5\n",
              "2        1    550135                         5\n",
              "3        1   2254736                         5\n",
              "4        1   2295261                         6\n",
              "5        1   2398795                         6\n",
              "6        1   2539329                         5\n",
              "7        1   2550362                         9\n",
              "8        1   3108588                         6\n",
              "9        1   3367565                         4"
            ]
          },
          "metadata": {
            "tags": []
          },
          "execution_count": 6
        }
      ]
    },
    {
      "cell_type": "code",
      "metadata": {
        "id": "cU3iHqqzN0zD",
        "colab_type": "code",
        "outputId": "9ca9d362-7870-41dc-ecd7-6942e91f8dbd",
        "colab": {
          "base_uri": "https://localhost:8080/",
          "height": 204
        }
      },
      "source": [
        "#2. Getting the average products purchased by each user\n",
        "avg_products = total_prd_per_order.groupby(by=['user_id'])['total_products_per_order'].mean().to_frame('u_avg_prd').reset_index()\n",
        "avg_products.head()"
      ],
      "execution_count": 0,
      "outputs": [
        {
          "output_type": "execute_result",
          "data": {
            "text/html": [
              "<div>\n",
              "<style scoped>\n",
              "    .dataframe tbody tr th:only-of-type {\n",
              "        vertical-align: middle;\n",
              "    }\n",
              "\n",
              "    .dataframe tbody tr th {\n",
              "        vertical-align: top;\n",
              "    }\n",
              "\n",
              "    .dataframe thead th {\n",
              "        text-align: right;\n",
              "    }\n",
              "</style>\n",
              "<table border=\"1\" class=\"dataframe\">\n",
              "  <thead>\n",
              "    <tr style=\"text-align: right;\">\n",
              "      <th></th>\n",
              "      <th>user_id</th>\n",
              "      <th>u_avg_prd</th>\n",
              "    </tr>\n",
              "  </thead>\n",
              "  <tbody>\n",
              "    <tr>\n",
              "      <th>0</th>\n",
              "      <td>1</td>\n",
              "      <td>5.900000</td>\n",
              "    </tr>\n",
              "    <tr>\n",
              "      <th>1</th>\n",
              "      <td>2</td>\n",
              "      <td>13.928571</td>\n",
              "    </tr>\n",
              "    <tr>\n",
              "      <th>2</th>\n",
              "      <td>3</td>\n",
              "      <td>7.333333</td>\n",
              "    </tr>\n",
              "    <tr>\n",
              "      <th>3</th>\n",
              "      <td>4</td>\n",
              "      <td>3.600000</td>\n",
              "    </tr>\n",
              "    <tr>\n",
              "      <th>4</th>\n",
              "      <td>5</td>\n",
              "      <td>9.250000</td>\n",
              "    </tr>\n",
              "  </tbody>\n",
              "</table>\n",
              "</div>"
            ],
            "text/plain": [
              "   user_id  u_avg_prd\n",
              "0        1   5.900000\n",
              "1        2  13.928571\n",
              "2        3   7.333333\n",
              "3        4   3.600000\n",
              "4        5   9.250000"
            ]
          },
          "metadata": {
            "tags": []
          },
          "execution_count": 7
        }
      ]
    },
    {
      "cell_type": "code",
      "metadata": {
        "id": "aPzXLm_DN6tG",
        "colab_type": "code",
        "colab": {}
      },
      "source": [
        "#deleting the total_prd_per_order dataframe\n",
        "del total_prd_per_order"
      ],
      "execution_count": 0,
      "outputs": []
    },
    {
      "cell_type": "code",
      "metadata": {
        "id": "m9zS4UB-N9ml",
        "colab_type": "code",
        "outputId": "98e34e56-6b68-4dd7-dc0c-73654d21550f",
        "colab": {
          "base_uri": "https://localhost:8080/",
          "height": 204
        }
      },
      "source": [
        "#dow of most orders placed by each user\n",
        "from scipy import stats\n",
        "dow = op.groupby(by='user_id')['order_dow'].agg(lambda x: stats.mode(x)[0]).to_frame('dow_most_orders_u').reset_index()\n",
        "dow.head()"
      ],
      "execution_count": 0,
      "outputs": [
        {
          "output_type": "execute_result",
          "data": {
            "text/html": [
              "<div>\n",
              "<style scoped>\n",
              "    .dataframe tbody tr th:only-of-type {\n",
              "        vertical-align: middle;\n",
              "    }\n",
              "\n",
              "    .dataframe tbody tr th {\n",
              "        vertical-align: top;\n",
              "    }\n",
              "\n",
              "    .dataframe thead th {\n",
              "        text-align: right;\n",
              "    }\n",
              "</style>\n",
              "<table border=\"1\" class=\"dataframe\">\n",
              "  <thead>\n",
              "    <tr style=\"text-align: right;\">\n",
              "      <th></th>\n",
              "      <th>user_id</th>\n",
              "      <th>dow_most_orders_u</th>\n",
              "    </tr>\n",
              "  </thead>\n",
              "  <tbody>\n",
              "    <tr>\n",
              "      <th>0</th>\n",
              "      <td>1</td>\n",
              "      <td>4</td>\n",
              "    </tr>\n",
              "    <tr>\n",
              "      <th>1</th>\n",
              "      <td>2</td>\n",
              "      <td>2</td>\n",
              "    </tr>\n",
              "    <tr>\n",
              "      <th>2</th>\n",
              "      <td>3</td>\n",
              "      <td>0</td>\n",
              "    </tr>\n",
              "    <tr>\n",
              "      <th>3</th>\n",
              "      <td>4</td>\n",
              "      <td>4</td>\n",
              "    </tr>\n",
              "    <tr>\n",
              "      <th>4</th>\n",
              "      <td>5</td>\n",
              "      <td>3</td>\n",
              "    </tr>\n",
              "  </tbody>\n",
              "</table>\n",
              "</div>"
            ],
            "text/plain": [
              "   user_id  dow_most_orders_u\n",
              "0        1                  4\n",
              "1        2                  2\n",
              "2        3                  0\n",
              "3        4                  4\n",
              "4        5                  3"
            ]
          },
          "metadata": {
            "tags": []
          },
          "execution_count": 9
        }
      ]
    },
    {
      "cell_type": "code",
      "metadata": {
        "id": "caVC4KzROAga",
        "colab_type": "code",
        "outputId": "0257d9fb-e3e3-42ab-b048-19ec7b8ed8b0",
        "colab": {
          "base_uri": "https://localhost:8080/",
          "height": 204
        }
      },
      "source": [
        "#hour of day when most orders placed by each user\n",
        "from scipy import stats\n",
        "hod = op.groupby(by='user_id')['order_hour_of_day'].agg(lambda x: stats.mode(x)[0]).to_frame('hod_most_orders_u').reset_index()\n",
        "hod.head()"
      ],
      "execution_count": 0,
      "outputs": [
        {
          "output_type": "execute_result",
          "data": {
            "text/html": [
              "<div>\n",
              "<style scoped>\n",
              "    .dataframe tbody tr th:only-of-type {\n",
              "        vertical-align: middle;\n",
              "    }\n",
              "\n",
              "    .dataframe tbody tr th {\n",
              "        vertical-align: top;\n",
              "    }\n",
              "\n",
              "    .dataframe thead th {\n",
              "        text-align: right;\n",
              "    }\n",
              "</style>\n",
              "<table border=\"1\" class=\"dataframe\">\n",
              "  <thead>\n",
              "    <tr style=\"text-align: right;\">\n",
              "      <th></th>\n",
              "      <th>user_id</th>\n",
              "      <th>hod_most_orders_u</th>\n",
              "    </tr>\n",
              "  </thead>\n",
              "  <tbody>\n",
              "    <tr>\n",
              "      <th>0</th>\n",
              "      <td>1</td>\n",
              "      <td>7</td>\n",
              "    </tr>\n",
              "    <tr>\n",
              "      <th>1</th>\n",
              "      <td>2</td>\n",
              "      <td>9</td>\n",
              "    </tr>\n",
              "    <tr>\n",
              "      <th>2</th>\n",
              "      <td>3</td>\n",
              "      <td>16</td>\n",
              "    </tr>\n",
              "    <tr>\n",
              "      <th>3</th>\n",
              "      <td>4</td>\n",
              "      <td>15</td>\n",
              "    </tr>\n",
              "    <tr>\n",
              "      <th>4</th>\n",
              "      <td>5</td>\n",
              "      <td>18</td>\n",
              "    </tr>\n",
              "  </tbody>\n",
              "</table>\n",
              "</div>"
            ],
            "text/plain": [
              "   user_id  hod_most_orders_u\n",
              "0        1                  7\n",
              "1        2                  9\n",
              "2        3                 16\n",
              "3        4                 15\n",
              "4        5                 18"
            ]
          },
          "metadata": {
            "tags": []
          },
          "execution_count": 10
        }
      ]
    },
    {
      "cell_type": "code",
      "metadata": {
        "id": "-SGq3tjfOEMT",
        "colab_type": "code",
        "outputId": "16e85a87-f7bf-48b0-d35d-ba0c1418aa12",
        "colab": {
          "base_uri": "https://localhost:8080/",
          "height": 204
        }
      },
      "source": [
        "#merging the user created features.\n",
        "\n",
        "#1. merging avg_products with users\n",
        "users = users.merge(avg_products, on='user_id', how='left')\n",
        "#deleting avg_products\n",
        "del avg_products\n",
        "users.head()"
      ],
      "execution_count": 0,
      "outputs": [
        {
          "output_type": "execute_result",
          "data": {
            "text/html": [
              "<div>\n",
              "<style scoped>\n",
              "    .dataframe tbody tr th:only-of-type {\n",
              "        vertical-align: middle;\n",
              "    }\n",
              "\n",
              "    .dataframe tbody tr th {\n",
              "        vertical-align: top;\n",
              "    }\n",
              "\n",
              "    .dataframe thead th {\n",
              "        text-align: right;\n",
              "    }\n",
              "</style>\n",
              "<table border=\"1\" class=\"dataframe\">\n",
              "  <thead>\n",
              "    <tr style=\"text-align: right;\">\n",
              "      <th></th>\n",
              "      <th>user_id</th>\n",
              "      <th>u_num_of_orders</th>\n",
              "      <th>u_avg_prd</th>\n",
              "    </tr>\n",
              "  </thead>\n",
              "  <tbody>\n",
              "    <tr>\n",
              "      <th>0</th>\n",
              "      <td>1</td>\n",
              "      <td>10</td>\n",
              "      <td>5.900000</td>\n",
              "    </tr>\n",
              "    <tr>\n",
              "      <th>1</th>\n",
              "      <td>2</td>\n",
              "      <td>14</td>\n",
              "      <td>13.928571</td>\n",
              "    </tr>\n",
              "    <tr>\n",
              "      <th>2</th>\n",
              "      <td>3</td>\n",
              "      <td>12</td>\n",
              "      <td>7.333333</td>\n",
              "    </tr>\n",
              "    <tr>\n",
              "      <th>3</th>\n",
              "      <td>4</td>\n",
              "      <td>5</td>\n",
              "      <td>3.600000</td>\n",
              "    </tr>\n",
              "    <tr>\n",
              "      <th>4</th>\n",
              "      <td>5</td>\n",
              "      <td>4</td>\n",
              "      <td>9.250000</td>\n",
              "    </tr>\n",
              "  </tbody>\n",
              "</table>\n",
              "</div>"
            ],
            "text/plain": [
              "   user_id  u_num_of_orders  u_avg_prd\n",
              "0        1               10   5.900000\n",
              "1        2               14  13.928571\n",
              "2        3               12   7.333333\n",
              "3        4                5   3.600000\n",
              "4        5                4   9.250000"
            ]
          },
          "metadata": {
            "tags": []
          },
          "execution_count": 11
        }
      ]
    },
    {
      "cell_type": "code",
      "metadata": {
        "id": "0ZXjjnlpOLdI",
        "colab_type": "code",
        "outputId": "0c261f31-6468-408b-cab2-8ded0d402f2c",
        "colab": {
          "base_uri": "https://localhost:8080/",
          "height": 204
        }
      },
      "source": [
        "#2. merging dow with users.\n",
        "users = users.merge(dow, on='user_id', how='left')\n",
        "#deleting dow\n",
        "del dow\n",
        "users.head()"
      ],
      "execution_count": 0,
      "outputs": [
        {
          "output_type": "execute_result",
          "data": {
            "text/html": [
              "<div>\n",
              "<style scoped>\n",
              "    .dataframe tbody tr th:only-of-type {\n",
              "        vertical-align: middle;\n",
              "    }\n",
              "\n",
              "    .dataframe tbody tr th {\n",
              "        vertical-align: top;\n",
              "    }\n",
              "\n",
              "    .dataframe thead th {\n",
              "        text-align: right;\n",
              "    }\n",
              "</style>\n",
              "<table border=\"1\" class=\"dataframe\">\n",
              "  <thead>\n",
              "    <tr style=\"text-align: right;\">\n",
              "      <th></th>\n",
              "      <th>user_id</th>\n",
              "      <th>u_num_of_orders</th>\n",
              "      <th>u_avg_prd</th>\n",
              "      <th>dow_most_orders_u</th>\n",
              "    </tr>\n",
              "  </thead>\n",
              "  <tbody>\n",
              "    <tr>\n",
              "      <th>0</th>\n",
              "      <td>1</td>\n",
              "      <td>10</td>\n",
              "      <td>5.900000</td>\n",
              "      <td>4</td>\n",
              "    </tr>\n",
              "    <tr>\n",
              "      <th>1</th>\n",
              "      <td>2</td>\n",
              "      <td>14</td>\n",
              "      <td>13.928571</td>\n",
              "      <td>2</td>\n",
              "    </tr>\n",
              "    <tr>\n",
              "      <th>2</th>\n",
              "      <td>3</td>\n",
              "      <td>12</td>\n",
              "      <td>7.333333</td>\n",
              "      <td>0</td>\n",
              "    </tr>\n",
              "    <tr>\n",
              "      <th>3</th>\n",
              "      <td>4</td>\n",
              "      <td>5</td>\n",
              "      <td>3.600000</td>\n",
              "      <td>4</td>\n",
              "    </tr>\n",
              "    <tr>\n",
              "      <th>4</th>\n",
              "      <td>5</td>\n",
              "      <td>4</td>\n",
              "      <td>9.250000</td>\n",
              "      <td>3</td>\n",
              "    </tr>\n",
              "  </tbody>\n",
              "</table>\n",
              "</div>"
            ],
            "text/plain": [
              "   user_id  u_num_of_orders  u_avg_prd  dow_most_orders_u\n",
              "0        1               10   5.900000                  4\n",
              "1        2               14  13.928571                  2\n",
              "2        3               12   7.333333                  0\n",
              "3        4                5   3.600000                  4\n",
              "4        5                4   9.250000                  3"
            ]
          },
          "metadata": {
            "tags": []
          },
          "execution_count": 12
        }
      ]
    },
    {
      "cell_type": "code",
      "metadata": {
        "id": "rlsIO53vOMsm",
        "colab_type": "code",
        "outputId": "a5fa0d3f-16dc-4344-b89f-79e0f979ab4f",
        "colab": {
          "base_uri": "https://localhost:8080/",
          "height": 204
        }
      },
      "source": [
        "#3. merging hod with users\n",
        "#2. merging dow with users.\n",
        "users = users.merge(hod, on='user_id', how='left')\n",
        "#deleting dow\n",
        "del hod\n",
        "users.head()"
      ],
      "execution_count": 0,
      "outputs": [
        {
          "output_type": "execute_result",
          "data": {
            "text/html": [
              "<div>\n",
              "<style scoped>\n",
              "    .dataframe tbody tr th:only-of-type {\n",
              "        vertical-align: middle;\n",
              "    }\n",
              "\n",
              "    .dataframe tbody tr th {\n",
              "        vertical-align: top;\n",
              "    }\n",
              "\n",
              "    .dataframe thead th {\n",
              "        text-align: right;\n",
              "    }\n",
              "</style>\n",
              "<table border=\"1\" class=\"dataframe\">\n",
              "  <thead>\n",
              "    <tr style=\"text-align: right;\">\n",
              "      <th></th>\n",
              "      <th>user_id</th>\n",
              "      <th>u_num_of_orders</th>\n",
              "      <th>u_avg_prd</th>\n",
              "      <th>dow_most_orders_u</th>\n",
              "      <th>hod_most_orders_u</th>\n",
              "    </tr>\n",
              "  </thead>\n",
              "  <tbody>\n",
              "    <tr>\n",
              "      <th>0</th>\n",
              "      <td>1</td>\n",
              "      <td>10</td>\n",
              "      <td>5.900000</td>\n",
              "      <td>4</td>\n",
              "      <td>7</td>\n",
              "    </tr>\n",
              "    <tr>\n",
              "      <th>1</th>\n",
              "      <td>2</td>\n",
              "      <td>14</td>\n",
              "      <td>13.928571</td>\n",
              "      <td>2</td>\n",
              "      <td>9</td>\n",
              "    </tr>\n",
              "    <tr>\n",
              "      <th>2</th>\n",
              "      <td>3</td>\n",
              "      <td>12</td>\n",
              "      <td>7.333333</td>\n",
              "      <td>0</td>\n",
              "      <td>16</td>\n",
              "    </tr>\n",
              "    <tr>\n",
              "      <th>3</th>\n",
              "      <td>4</td>\n",
              "      <td>5</td>\n",
              "      <td>3.600000</td>\n",
              "      <td>4</td>\n",
              "      <td>15</td>\n",
              "    </tr>\n",
              "    <tr>\n",
              "      <th>4</th>\n",
              "      <td>5</td>\n",
              "      <td>4</td>\n",
              "      <td>9.250000</td>\n",
              "      <td>3</td>\n",
              "      <td>18</td>\n",
              "    </tr>\n",
              "  </tbody>\n",
              "</table>\n",
              "</div>"
            ],
            "text/plain": [
              "   user_id  u_num_of_orders  u_avg_prd  dow_most_orders_u  hod_most_orders_u\n",
              "0        1               10   5.900000                  4                  7\n",
              "1        2               14  13.928571                  2                  9\n",
              "2        3               12   7.333333                  0                 16\n",
              "3        4                5   3.600000                  4                 15\n",
              "4        5                4   9.250000                  3                 18"
            ]
          },
          "metadata": {
            "tags": []
          },
          "execution_count": 13
        }
      ]
    },
    {
      "cell_type": "markdown",
      "metadata": {
        "id": "oM-OY2kbOWuZ",
        "colab_type": "text"
      },
      "source": [
        "Creating features related to the products using product_id"
      ]
    },
    {
      "cell_type": "code",
      "metadata": {
        "id": "_Khmtds_OaeO",
        "colab_type": "code",
        "outputId": "d180fbeb-a907-4043-bb56-14cd4a848793",
        "colab": {
          "base_uri": "https://localhost:8080/",
          "height": 204
        }
      },
      "source": [
        "#number of time a product was purchased.\n",
        "prd = op.groupby(by='product_id')['order_id'].agg('count').to_frame('prd_count_p').reset_index()\n",
        "prd.head()"
      ],
      "execution_count": 0,
      "outputs": [
        {
          "output_type": "execute_result",
          "data": {
            "text/html": [
              "<div>\n",
              "<style scoped>\n",
              "    .dataframe tbody tr th:only-of-type {\n",
              "        vertical-align: middle;\n",
              "    }\n",
              "\n",
              "    .dataframe tbody tr th {\n",
              "        vertical-align: top;\n",
              "    }\n",
              "\n",
              "    .dataframe thead th {\n",
              "        text-align: right;\n",
              "    }\n",
              "</style>\n",
              "<table border=\"1\" class=\"dataframe\">\n",
              "  <thead>\n",
              "    <tr style=\"text-align: right;\">\n",
              "      <th></th>\n",
              "      <th>product_id</th>\n",
              "      <th>prd_count_p</th>\n",
              "    </tr>\n",
              "  </thead>\n",
              "  <tbody>\n",
              "    <tr>\n",
              "      <th>0</th>\n",
              "      <td>1</td>\n",
              "      <td>1852</td>\n",
              "    </tr>\n",
              "    <tr>\n",
              "      <th>1</th>\n",
              "      <td>2</td>\n",
              "      <td>90</td>\n",
              "    </tr>\n",
              "    <tr>\n",
              "      <th>2</th>\n",
              "      <td>3</td>\n",
              "      <td>277</td>\n",
              "    </tr>\n",
              "    <tr>\n",
              "      <th>3</th>\n",
              "      <td>4</td>\n",
              "      <td>329</td>\n",
              "    </tr>\n",
              "    <tr>\n",
              "      <th>4</th>\n",
              "      <td>5</td>\n",
              "      <td>15</td>\n",
              "    </tr>\n",
              "  </tbody>\n",
              "</table>\n",
              "</div>"
            ],
            "text/plain": [
              "   product_id  prd_count_p\n",
              "0           1         1852\n",
              "1           2           90\n",
              "2           3          277\n",
              "3           4          329\n",
              "4           5           15"
            ]
          },
          "metadata": {
            "tags": []
          },
          "execution_count": 14
        }
      ]
    },
    {
      "cell_type": "code",
      "metadata": {
        "id": "xQyM8YywOfcN",
        "colab_type": "code",
        "outputId": "78c7fbbd-2a79-4ea8-e122-281d3162d7bb",
        "colab": {
          "base_uri": "https://localhost:8080/",
          "height": 204
        }
      },
      "source": [
        "#products reorder ratio.\n",
        "reorder_p = op.groupby(by='product_id')['reordered'].agg('mean').to_frame('p_reordered_ratio').reset_index()\n",
        "reorder_p.head()"
      ],
      "execution_count": 0,
      "outputs": [
        {
          "output_type": "execute_result",
          "data": {
            "text/html": [
              "<div>\n",
              "<style scoped>\n",
              "    .dataframe tbody tr th:only-of-type {\n",
              "        vertical-align: middle;\n",
              "    }\n",
              "\n",
              "    .dataframe tbody tr th {\n",
              "        vertical-align: top;\n",
              "    }\n",
              "\n",
              "    .dataframe thead th {\n",
              "        text-align: right;\n",
              "    }\n",
              "</style>\n",
              "<table border=\"1\" class=\"dataframe\">\n",
              "  <thead>\n",
              "    <tr style=\"text-align: right;\">\n",
              "      <th></th>\n",
              "      <th>product_id</th>\n",
              "      <th>p_reordered_ratio</th>\n",
              "    </tr>\n",
              "  </thead>\n",
              "  <tbody>\n",
              "    <tr>\n",
              "      <th>0</th>\n",
              "      <td>1</td>\n",
              "      <td>0.613391</td>\n",
              "    </tr>\n",
              "    <tr>\n",
              "      <th>1</th>\n",
              "      <td>2</td>\n",
              "      <td>0.133333</td>\n",
              "    </tr>\n",
              "    <tr>\n",
              "      <th>2</th>\n",
              "      <td>3</td>\n",
              "      <td>0.732852</td>\n",
              "    </tr>\n",
              "    <tr>\n",
              "      <th>3</th>\n",
              "      <td>4</td>\n",
              "      <td>0.446809</td>\n",
              "    </tr>\n",
              "    <tr>\n",
              "      <th>4</th>\n",
              "      <td>5</td>\n",
              "      <td>0.600000</td>\n",
              "    </tr>\n",
              "  </tbody>\n",
              "</table>\n",
              "</div>"
            ],
            "text/plain": [
              "   product_id  p_reordered_ratio\n",
              "0           1           0.613391\n",
              "1           2           0.133333\n",
              "2           3           0.732852\n",
              "3           4           0.446809\n",
              "4           5           0.600000"
            ]
          },
          "metadata": {
            "tags": []
          },
          "execution_count": 15
        }
      ]
    },
    {
      "cell_type": "code",
      "metadata": {
        "id": "J8i7iqTrOikE",
        "colab_type": "code",
        "outputId": "eaad4a22-3652-4045-c347-21821312f721",
        "colab": {
          "base_uri": "https://localhost:8080/",
          "height": 204
        }
      },
      "source": [
        "#merging the reorder_p with prd\n",
        "prd = prd.merge(reorder_p, on='product_id', how='left')\n",
        "#deleting reorder_p\n",
        "del reorder_p\n",
        "prd.head()"
      ],
      "execution_count": 0,
      "outputs": [
        {
          "output_type": "execute_result",
          "data": {
            "text/html": [
              "<div>\n",
              "<style scoped>\n",
              "    .dataframe tbody tr th:only-of-type {\n",
              "        vertical-align: middle;\n",
              "    }\n",
              "\n",
              "    .dataframe tbody tr th {\n",
              "        vertical-align: top;\n",
              "    }\n",
              "\n",
              "    .dataframe thead th {\n",
              "        text-align: right;\n",
              "    }\n",
              "</style>\n",
              "<table border=\"1\" class=\"dataframe\">\n",
              "  <thead>\n",
              "    <tr style=\"text-align: right;\">\n",
              "      <th></th>\n",
              "      <th>product_id</th>\n",
              "      <th>prd_count_p</th>\n",
              "      <th>p_reordered_ratio</th>\n",
              "    </tr>\n",
              "  </thead>\n",
              "  <tbody>\n",
              "    <tr>\n",
              "      <th>0</th>\n",
              "      <td>1</td>\n",
              "      <td>1852</td>\n",
              "      <td>0.613391</td>\n",
              "    </tr>\n",
              "    <tr>\n",
              "      <th>1</th>\n",
              "      <td>2</td>\n",
              "      <td>90</td>\n",
              "      <td>0.133333</td>\n",
              "    </tr>\n",
              "    <tr>\n",
              "      <th>2</th>\n",
              "      <td>3</td>\n",
              "      <td>277</td>\n",
              "      <td>0.732852</td>\n",
              "    </tr>\n",
              "    <tr>\n",
              "      <th>3</th>\n",
              "      <td>4</td>\n",
              "      <td>329</td>\n",
              "      <td>0.446809</td>\n",
              "    </tr>\n",
              "    <tr>\n",
              "      <th>4</th>\n",
              "      <td>5</td>\n",
              "      <td>15</td>\n",
              "      <td>0.600000</td>\n",
              "    </tr>\n",
              "  </tbody>\n",
              "</table>\n",
              "</div>"
            ],
            "text/plain": [
              "   product_id  prd_count_p  p_reordered_ratio\n",
              "0           1         1852           0.613391\n",
              "1           2           90           0.133333\n",
              "2           3          277           0.732852\n",
              "3           4          329           0.446809\n",
              "4           5           15           0.600000"
            ]
          },
          "metadata": {
            "tags": []
          },
          "execution_count": 16
        }
      ]
    },
    {
      "cell_type": "markdown",
      "metadata": {
        "id": "CL8YdnriOl16",
        "colab_type": "text"
      },
      "source": [
        "Creating user-product features"
      ]
    },
    {
      "cell_type": "code",
      "metadata": {
        "id": "JAVQnlR4Omj9",
        "colab_type": "code",
        "outputId": "4626eb66-49d3-4f4a-e3a0-b195b1d078b0",
        "colab": {
          "base_uri": "https://localhost:8080/",
          "height": 204
        }
      },
      "source": [
        "#how many times a user bought the same product.\n",
        "uxp = op.groupby(by=['user_id', 'product_id'])['order_id'].agg('count').to_frame('uxp_times_bought').reset_index()\n",
        "uxp.head()"
      ],
      "execution_count": 0,
      "outputs": [
        {
          "output_type": "execute_result",
          "data": {
            "text/html": [
              "<div>\n",
              "<style scoped>\n",
              "    .dataframe tbody tr th:only-of-type {\n",
              "        vertical-align: middle;\n",
              "    }\n",
              "\n",
              "    .dataframe tbody tr th {\n",
              "        vertical-align: top;\n",
              "    }\n",
              "\n",
              "    .dataframe thead th {\n",
              "        text-align: right;\n",
              "    }\n",
              "</style>\n",
              "<table border=\"1\" class=\"dataframe\">\n",
              "  <thead>\n",
              "    <tr style=\"text-align: right;\">\n",
              "      <th></th>\n",
              "      <th>user_id</th>\n",
              "      <th>product_id</th>\n",
              "      <th>uxp_times_bought</th>\n",
              "    </tr>\n",
              "  </thead>\n",
              "  <tbody>\n",
              "    <tr>\n",
              "      <th>0</th>\n",
              "      <td>1</td>\n",
              "      <td>196</td>\n",
              "      <td>10</td>\n",
              "    </tr>\n",
              "    <tr>\n",
              "      <th>1</th>\n",
              "      <td>1</td>\n",
              "      <td>10258</td>\n",
              "      <td>9</td>\n",
              "    </tr>\n",
              "    <tr>\n",
              "      <th>2</th>\n",
              "      <td>1</td>\n",
              "      <td>10326</td>\n",
              "      <td>1</td>\n",
              "    </tr>\n",
              "    <tr>\n",
              "      <th>3</th>\n",
              "      <td>1</td>\n",
              "      <td>12427</td>\n",
              "      <td>10</td>\n",
              "    </tr>\n",
              "    <tr>\n",
              "      <th>4</th>\n",
              "      <td>1</td>\n",
              "      <td>13032</td>\n",
              "      <td>3</td>\n",
              "    </tr>\n",
              "  </tbody>\n",
              "</table>\n",
              "</div>"
            ],
            "text/plain": [
              "   user_id  product_id  uxp_times_bought\n",
              "0        1         196                10\n",
              "1        1       10258                 9\n",
              "2        1       10326                 1\n",
              "3        1       12427                10\n",
              "4        1       13032                 3"
            ]
          },
          "metadata": {
            "tags": []
          },
          "execution_count": 17
        }
      ]
    },
    {
      "cell_type": "code",
      "metadata": {
        "id": "m7gDWLIkOriG",
        "colab_type": "code",
        "outputId": "85016251-347f-40d3-c2cc-efd02741dd3b",
        "colab": {
          "base_uri": "https://localhost:8080/",
          "height": 204
        }
      },
      "source": [
        "#reorder ratio of the user for each product.\n",
        "reorder_uxp = op.groupby(by=['user_id', 'product_id'])['reordered'].agg('mean').to_frame('uxp_reordered_ratio').reset_index()\n",
        "reorder_uxp.head()"
      ],
      "execution_count": 0,
      "outputs": [
        {
          "output_type": "execute_result",
          "data": {
            "text/html": [
              "<div>\n",
              "<style scoped>\n",
              "    .dataframe tbody tr th:only-of-type {\n",
              "        vertical-align: middle;\n",
              "    }\n",
              "\n",
              "    .dataframe tbody tr th {\n",
              "        vertical-align: top;\n",
              "    }\n",
              "\n",
              "    .dataframe thead th {\n",
              "        text-align: right;\n",
              "    }\n",
              "</style>\n",
              "<table border=\"1\" class=\"dataframe\">\n",
              "  <thead>\n",
              "    <tr style=\"text-align: right;\">\n",
              "      <th></th>\n",
              "      <th>user_id</th>\n",
              "      <th>product_id</th>\n",
              "      <th>uxp_reordered_ratio</th>\n",
              "    </tr>\n",
              "  </thead>\n",
              "  <tbody>\n",
              "    <tr>\n",
              "      <th>0</th>\n",
              "      <td>1</td>\n",
              "      <td>196</td>\n",
              "      <td>0.900000</td>\n",
              "    </tr>\n",
              "    <tr>\n",
              "      <th>1</th>\n",
              "      <td>1</td>\n",
              "      <td>10258</td>\n",
              "      <td>0.888889</td>\n",
              "    </tr>\n",
              "    <tr>\n",
              "      <th>2</th>\n",
              "      <td>1</td>\n",
              "      <td>10326</td>\n",
              "      <td>0.000000</td>\n",
              "    </tr>\n",
              "    <tr>\n",
              "      <th>3</th>\n",
              "      <td>1</td>\n",
              "      <td>12427</td>\n",
              "      <td>0.900000</td>\n",
              "    </tr>\n",
              "    <tr>\n",
              "      <th>4</th>\n",
              "      <td>1</td>\n",
              "      <td>13032</td>\n",
              "      <td>0.666667</td>\n",
              "    </tr>\n",
              "  </tbody>\n",
              "</table>\n",
              "</div>"
            ],
            "text/plain": [
              "   user_id  product_id  uxp_reordered_ratio\n",
              "0        1         196             0.900000\n",
              "1        1       10258             0.888889\n",
              "2        1       10326             0.000000\n",
              "3        1       12427             0.900000\n",
              "4        1       13032             0.666667"
            ]
          },
          "metadata": {
            "tags": []
          },
          "execution_count": 18
        }
      ]
    },
    {
      "cell_type": "code",
      "metadata": {
        "id": "Tp27teBrOuVi",
        "colab_type": "code",
        "outputId": "fb3c4035-9169-4805-dc1f-242ffebb7f7c",
        "colab": {
          "base_uri": "https://localhost:8080/",
          "height": 204
        }
      },
      "source": [
        "#merging the two dataframes into one\n",
        "uxp = uxp.merge(reorder_uxp, on=['user_id', 'product_id'], how='left')\n",
        "#deleting reorder_uxp\n",
        "del reorder_uxp\n",
        "uxp.head()"
      ],
      "execution_count": 0,
      "outputs": [
        {
          "output_type": "execute_result",
          "data": {
            "text/html": [
              "<div>\n",
              "<style scoped>\n",
              "    .dataframe tbody tr th:only-of-type {\n",
              "        vertical-align: middle;\n",
              "    }\n",
              "\n",
              "    .dataframe tbody tr th {\n",
              "        vertical-align: top;\n",
              "    }\n",
              "\n",
              "    .dataframe thead th {\n",
              "        text-align: right;\n",
              "    }\n",
              "</style>\n",
              "<table border=\"1\" class=\"dataframe\">\n",
              "  <thead>\n",
              "    <tr style=\"text-align: right;\">\n",
              "      <th></th>\n",
              "      <th>user_id</th>\n",
              "      <th>product_id</th>\n",
              "      <th>uxp_times_bought</th>\n",
              "      <th>uxp_reordered_ratio</th>\n",
              "    </tr>\n",
              "  </thead>\n",
              "  <tbody>\n",
              "    <tr>\n",
              "      <th>0</th>\n",
              "      <td>1</td>\n",
              "      <td>196</td>\n",
              "      <td>10</td>\n",
              "      <td>0.900000</td>\n",
              "    </tr>\n",
              "    <tr>\n",
              "      <th>1</th>\n",
              "      <td>1</td>\n",
              "      <td>10258</td>\n",
              "      <td>9</td>\n",
              "      <td>0.888889</td>\n",
              "    </tr>\n",
              "    <tr>\n",
              "      <th>2</th>\n",
              "      <td>1</td>\n",
              "      <td>10326</td>\n",
              "      <td>1</td>\n",
              "      <td>0.000000</td>\n",
              "    </tr>\n",
              "    <tr>\n",
              "      <th>3</th>\n",
              "      <td>1</td>\n",
              "      <td>12427</td>\n",
              "      <td>10</td>\n",
              "      <td>0.900000</td>\n",
              "    </tr>\n",
              "    <tr>\n",
              "      <th>4</th>\n",
              "      <td>1</td>\n",
              "      <td>13032</td>\n",
              "      <td>3</td>\n",
              "      <td>0.666667</td>\n",
              "    </tr>\n",
              "  </tbody>\n",
              "</table>\n",
              "</div>"
            ],
            "text/plain": [
              "   user_id  product_id  uxp_times_bought  uxp_reordered_ratio\n",
              "0        1         196                10             0.900000\n",
              "1        1       10258                 9             0.888889\n",
              "2        1       10326                 1             0.000000\n",
              "3        1       12427                10             0.900000\n",
              "4        1       13032                 3             0.666667"
            ]
          },
          "metadata": {
            "tags": []
          },
          "execution_count": 19
        }
      ]
    },
    {
      "cell_type": "markdown",
      "metadata": {
        "id": "G-QmSP6pOyvb",
        "colab_type": "text"
      },
      "source": [
        "Merging all the features into data DF"
      ]
    },
    {
      "cell_type": "code",
      "metadata": {
        "id": "XBv7Lgx_OzVR",
        "colab_type": "code",
        "outputId": "fea5824b-d2e7-4553-d07b-aec10e6a3860",
        "colab": {
          "base_uri": "https://localhost:8080/",
          "height": 204
        }
      },
      "source": [
        "#merging users df into uxp\n",
        "data = uxp.merge(users, on='user_id', how='left')\n",
        "data.head()"
      ],
      "execution_count": 0,
      "outputs": [
        {
          "output_type": "execute_result",
          "data": {
            "text/html": [
              "<div>\n",
              "<style scoped>\n",
              "    .dataframe tbody tr th:only-of-type {\n",
              "        vertical-align: middle;\n",
              "    }\n",
              "\n",
              "    .dataframe tbody tr th {\n",
              "        vertical-align: top;\n",
              "    }\n",
              "\n",
              "    .dataframe thead th {\n",
              "        text-align: right;\n",
              "    }\n",
              "</style>\n",
              "<table border=\"1\" class=\"dataframe\">\n",
              "  <thead>\n",
              "    <tr style=\"text-align: right;\">\n",
              "      <th></th>\n",
              "      <th>user_id</th>\n",
              "      <th>product_id</th>\n",
              "      <th>uxp_times_bought</th>\n",
              "      <th>uxp_reordered_ratio</th>\n",
              "      <th>u_num_of_orders</th>\n",
              "      <th>u_avg_prd</th>\n",
              "      <th>dow_most_orders_u</th>\n",
              "      <th>hod_most_orders_u</th>\n",
              "    </tr>\n",
              "  </thead>\n",
              "  <tbody>\n",
              "    <tr>\n",
              "      <th>0</th>\n",
              "      <td>1</td>\n",
              "      <td>196</td>\n",
              "      <td>10</td>\n",
              "      <td>0.900000</td>\n",
              "      <td>10</td>\n",
              "      <td>5.9</td>\n",
              "      <td>4</td>\n",
              "      <td>7</td>\n",
              "    </tr>\n",
              "    <tr>\n",
              "      <th>1</th>\n",
              "      <td>1</td>\n",
              "      <td>10258</td>\n",
              "      <td>9</td>\n",
              "      <td>0.888889</td>\n",
              "      <td>10</td>\n",
              "      <td>5.9</td>\n",
              "      <td>4</td>\n",
              "      <td>7</td>\n",
              "    </tr>\n",
              "    <tr>\n",
              "      <th>2</th>\n",
              "      <td>1</td>\n",
              "      <td>10326</td>\n",
              "      <td>1</td>\n",
              "      <td>0.000000</td>\n",
              "      <td>10</td>\n",
              "      <td>5.9</td>\n",
              "      <td>4</td>\n",
              "      <td>7</td>\n",
              "    </tr>\n",
              "    <tr>\n",
              "      <th>3</th>\n",
              "      <td>1</td>\n",
              "      <td>12427</td>\n",
              "      <td>10</td>\n",
              "      <td>0.900000</td>\n",
              "      <td>10</td>\n",
              "      <td>5.9</td>\n",
              "      <td>4</td>\n",
              "      <td>7</td>\n",
              "    </tr>\n",
              "    <tr>\n",
              "      <th>4</th>\n",
              "      <td>1</td>\n",
              "      <td>13032</td>\n",
              "      <td>3</td>\n",
              "      <td>0.666667</td>\n",
              "      <td>10</td>\n",
              "      <td>5.9</td>\n",
              "      <td>4</td>\n",
              "      <td>7</td>\n",
              "    </tr>\n",
              "  </tbody>\n",
              "</table>\n",
              "</div>"
            ],
            "text/plain": [
              "   user_id  product_id  ...  dow_most_orders_u  hod_most_orders_u\n",
              "0        1         196  ...                  4                  7\n",
              "1        1       10258  ...                  4                  7\n",
              "2        1       10326  ...                  4                  7\n",
              "3        1       12427  ...                  4                  7\n",
              "4        1       13032  ...                  4                  7\n",
              "\n",
              "[5 rows x 8 columns]"
            ]
          },
          "metadata": {
            "tags": []
          },
          "execution_count": 20
        }
      ]
    },
    {
      "cell_type": "code",
      "metadata": {
        "id": "RaDPj9TNO4h7",
        "colab_type": "code",
        "outputId": "f568d3d7-09bd-47b9-b789-3af00f94d61a",
        "colab": {
          "base_uri": "https://localhost:8080/",
          "height": 204
        }
      },
      "source": [
        "#merging products df into data\n",
        "data = data.merge(prd, on='product_id', how='left')\n",
        "data.head()"
      ],
      "execution_count": 0,
      "outputs": [
        {
          "output_type": "execute_result",
          "data": {
            "text/html": [
              "<div>\n",
              "<style scoped>\n",
              "    .dataframe tbody tr th:only-of-type {\n",
              "        vertical-align: middle;\n",
              "    }\n",
              "\n",
              "    .dataframe tbody tr th {\n",
              "        vertical-align: top;\n",
              "    }\n",
              "\n",
              "    .dataframe thead th {\n",
              "        text-align: right;\n",
              "    }\n",
              "</style>\n",
              "<table border=\"1\" class=\"dataframe\">\n",
              "  <thead>\n",
              "    <tr style=\"text-align: right;\">\n",
              "      <th></th>\n",
              "      <th>user_id</th>\n",
              "      <th>product_id</th>\n",
              "      <th>uxp_times_bought</th>\n",
              "      <th>uxp_reordered_ratio</th>\n",
              "      <th>u_num_of_orders</th>\n",
              "      <th>u_avg_prd</th>\n",
              "      <th>dow_most_orders_u</th>\n",
              "      <th>hod_most_orders_u</th>\n",
              "      <th>prd_count_p</th>\n",
              "      <th>p_reordered_ratio</th>\n",
              "    </tr>\n",
              "  </thead>\n",
              "  <tbody>\n",
              "    <tr>\n",
              "      <th>0</th>\n",
              "      <td>1</td>\n",
              "      <td>196</td>\n",
              "      <td>10</td>\n",
              "      <td>0.900000</td>\n",
              "      <td>10</td>\n",
              "      <td>5.9</td>\n",
              "      <td>4</td>\n",
              "      <td>7</td>\n",
              "      <td>35791</td>\n",
              "      <td>0.776480</td>\n",
              "    </tr>\n",
              "    <tr>\n",
              "      <th>1</th>\n",
              "      <td>1</td>\n",
              "      <td>10258</td>\n",
              "      <td>9</td>\n",
              "      <td>0.888889</td>\n",
              "      <td>10</td>\n",
              "      <td>5.9</td>\n",
              "      <td>4</td>\n",
              "      <td>7</td>\n",
              "      <td>1946</td>\n",
              "      <td>0.713772</td>\n",
              "    </tr>\n",
              "    <tr>\n",
              "      <th>2</th>\n",
              "      <td>1</td>\n",
              "      <td>10326</td>\n",
              "      <td>1</td>\n",
              "      <td>0.000000</td>\n",
              "      <td>10</td>\n",
              "      <td>5.9</td>\n",
              "      <td>4</td>\n",
              "      <td>7</td>\n",
              "      <td>5526</td>\n",
              "      <td>0.652009</td>\n",
              "    </tr>\n",
              "    <tr>\n",
              "      <th>3</th>\n",
              "      <td>1</td>\n",
              "      <td>12427</td>\n",
              "      <td>10</td>\n",
              "      <td>0.900000</td>\n",
              "      <td>10</td>\n",
              "      <td>5.9</td>\n",
              "      <td>4</td>\n",
              "      <td>7</td>\n",
              "      <td>6476</td>\n",
              "      <td>0.740735</td>\n",
              "    </tr>\n",
              "    <tr>\n",
              "      <th>4</th>\n",
              "      <td>1</td>\n",
              "      <td>13032</td>\n",
              "      <td>3</td>\n",
              "      <td>0.666667</td>\n",
              "      <td>10</td>\n",
              "      <td>5.9</td>\n",
              "      <td>4</td>\n",
              "      <td>7</td>\n",
              "      <td>3751</td>\n",
              "      <td>0.657158</td>\n",
              "    </tr>\n",
              "  </tbody>\n",
              "</table>\n",
              "</div>"
            ],
            "text/plain": [
              "   user_id  product_id  ...  prd_count_p  p_reordered_ratio\n",
              "0        1         196  ...        35791           0.776480\n",
              "1        1       10258  ...         1946           0.713772\n",
              "2        1       10326  ...         5526           0.652009\n",
              "3        1       12427  ...         6476           0.740735\n",
              "4        1       13032  ...         3751           0.657158\n",
              "\n",
              "[5 rows x 10 columns]"
            ]
          },
          "metadata": {
            "tags": []
          },
          "execution_count": 21
        }
      ]
    },
    {
      "cell_type": "code",
      "metadata": {
        "id": "mkTEeKaIO6by",
        "colab_type": "code",
        "colab": {}
      },
      "source": [
        "#deleting unwanted dfs\n",
        "del [users, prd, uxp]"
      ],
      "execution_count": 0,
      "outputs": []
    },
    {
      "cell_type": "markdown",
      "metadata": {
        "id": "GozX8OR9PBNl",
        "colab_type": "text"
      },
      "source": [
        "Creating train and test dataset"
      ]
    },
    {
      "cell_type": "code",
      "metadata": {
        "id": "6vTfcmkZPB0h",
        "colab_type": "code",
        "outputId": "149697dd-c8a3-41be-fbd2-241c5ea518a4",
        "colab": {
          "base_uri": "https://localhost:8080/",
          "height": 204
        }
      },
      "source": [
        "#keeping only the train and test eval set from the orders dataframe.\n",
        "order_future = orders.loc[((orders.eval_set == 'train') | (orders.eval_set == 'test')), ['user_id', 'eval_set', 'order_id']]\n",
        "order_future.head()"
      ],
      "execution_count": 0,
      "outputs": [
        {
          "output_type": "execute_result",
          "data": {
            "text/html": [
              "<div>\n",
              "<style scoped>\n",
              "    .dataframe tbody tr th:only-of-type {\n",
              "        vertical-align: middle;\n",
              "    }\n",
              "\n",
              "    .dataframe tbody tr th {\n",
              "        vertical-align: top;\n",
              "    }\n",
              "\n",
              "    .dataframe thead th {\n",
              "        text-align: right;\n",
              "    }\n",
              "</style>\n",
              "<table border=\"1\" class=\"dataframe\">\n",
              "  <thead>\n",
              "    <tr style=\"text-align: right;\">\n",
              "      <th></th>\n",
              "      <th>user_id</th>\n",
              "      <th>eval_set</th>\n",
              "      <th>order_id</th>\n",
              "    </tr>\n",
              "  </thead>\n",
              "  <tbody>\n",
              "    <tr>\n",
              "      <th>10</th>\n",
              "      <td>1</td>\n",
              "      <td>train</td>\n",
              "      <td>1187899</td>\n",
              "    </tr>\n",
              "    <tr>\n",
              "      <th>25</th>\n",
              "      <td>2</td>\n",
              "      <td>train</td>\n",
              "      <td>1492625</td>\n",
              "    </tr>\n",
              "    <tr>\n",
              "      <th>38</th>\n",
              "      <td>3</td>\n",
              "      <td>test</td>\n",
              "      <td>2774568</td>\n",
              "    </tr>\n",
              "    <tr>\n",
              "      <th>44</th>\n",
              "      <td>4</td>\n",
              "      <td>test</td>\n",
              "      <td>329954</td>\n",
              "    </tr>\n",
              "    <tr>\n",
              "      <th>49</th>\n",
              "      <td>5</td>\n",
              "      <td>train</td>\n",
              "      <td>2196797</td>\n",
              "    </tr>\n",
              "  </tbody>\n",
              "</table>\n",
              "</div>"
            ],
            "text/plain": [
              "    user_id eval_set  order_id\n",
              "10        1    train   1187899\n",
              "25        2    train   1492625\n",
              "38        3     test   2774568\n",
              "44        4     test    329954\n",
              "49        5    train   2196797"
            ]
          },
          "metadata": {
            "tags": []
          },
          "execution_count": 23
        }
      ]
    },
    {
      "cell_type": "code",
      "metadata": {
        "id": "EMj947DtPLqr",
        "colab_type": "code",
        "outputId": "56d73b0e-780a-450d-a51a-7274ed35a1f4",
        "colab": {
          "base_uri": "https://localhost:8080/",
          "height": 224
        }
      },
      "source": [
        "#merging the order_future with the data.\n",
        "data = data.merge(order_future, on='user_id', how='left')\n",
        "data.head()"
      ],
      "execution_count": 0,
      "outputs": [
        {
          "output_type": "execute_result",
          "data": {
            "text/html": [
              "<div>\n",
              "<style scoped>\n",
              "    .dataframe tbody tr th:only-of-type {\n",
              "        vertical-align: middle;\n",
              "    }\n",
              "\n",
              "    .dataframe tbody tr th {\n",
              "        vertical-align: top;\n",
              "    }\n",
              "\n",
              "    .dataframe thead th {\n",
              "        text-align: right;\n",
              "    }\n",
              "</style>\n",
              "<table border=\"1\" class=\"dataframe\">\n",
              "  <thead>\n",
              "    <tr style=\"text-align: right;\">\n",
              "      <th></th>\n",
              "      <th>user_id</th>\n",
              "      <th>product_id</th>\n",
              "      <th>uxp_times_bought</th>\n",
              "      <th>uxp_reordered_ratio</th>\n",
              "      <th>u_num_of_orders</th>\n",
              "      <th>u_avg_prd</th>\n",
              "      <th>dow_most_orders_u</th>\n",
              "      <th>hod_most_orders_u</th>\n",
              "      <th>prd_count_p</th>\n",
              "      <th>p_reordered_ratio</th>\n",
              "      <th>eval_set</th>\n",
              "      <th>order_id</th>\n",
              "    </tr>\n",
              "  </thead>\n",
              "  <tbody>\n",
              "    <tr>\n",
              "      <th>0</th>\n",
              "      <td>1</td>\n",
              "      <td>196</td>\n",
              "      <td>10</td>\n",
              "      <td>0.900000</td>\n",
              "      <td>10</td>\n",
              "      <td>5.9</td>\n",
              "      <td>4</td>\n",
              "      <td>7</td>\n",
              "      <td>35791</td>\n",
              "      <td>0.776480</td>\n",
              "      <td>train</td>\n",
              "      <td>1187899</td>\n",
              "    </tr>\n",
              "    <tr>\n",
              "      <th>1</th>\n",
              "      <td>1</td>\n",
              "      <td>10258</td>\n",
              "      <td>9</td>\n",
              "      <td>0.888889</td>\n",
              "      <td>10</td>\n",
              "      <td>5.9</td>\n",
              "      <td>4</td>\n",
              "      <td>7</td>\n",
              "      <td>1946</td>\n",
              "      <td>0.713772</td>\n",
              "      <td>train</td>\n",
              "      <td>1187899</td>\n",
              "    </tr>\n",
              "    <tr>\n",
              "      <th>2</th>\n",
              "      <td>1</td>\n",
              "      <td>10326</td>\n",
              "      <td>1</td>\n",
              "      <td>0.000000</td>\n",
              "      <td>10</td>\n",
              "      <td>5.9</td>\n",
              "      <td>4</td>\n",
              "      <td>7</td>\n",
              "      <td>5526</td>\n",
              "      <td>0.652009</td>\n",
              "      <td>train</td>\n",
              "      <td>1187899</td>\n",
              "    </tr>\n",
              "    <tr>\n",
              "      <th>3</th>\n",
              "      <td>1</td>\n",
              "      <td>12427</td>\n",
              "      <td>10</td>\n",
              "      <td>0.900000</td>\n",
              "      <td>10</td>\n",
              "      <td>5.9</td>\n",
              "      <td>4</td>\n",
              "      <td>7</td>\n",
              "      <td>6476</td>\n",
              "      <td>0.740735</td>\n",
              "      <td>train</td>\n",
              "      <td>1187899</td>\n",
              "    </tr>\n",
              "    <tr>\n",
              "      <th>4</th>\n",
              "      <td>1</td>\n",
              "      <td>13032</td>\n",
              "      <td>3</td>\n",
              "      <td>0.666667</td>\n",
              "      <td>10</td>\n",
              "      <td>5.9</td>\n",
              "      <td>4</td>\n",
              "      <td>7</td>\n",
              "      <td>3751</td>\n",
              "      <td>0.657158</td>\n",
              "      <td>train</td>\n",
              "      <td>1187899</td>\n",
              "    </tr>\n",
              "  </tbody>\n",
              "</table>\n",
              "</div>"
            ],
            "text/plain": [
              "   user_id  product_id  uxp_times_bought  ...  p_reordered_ratio  eval_set  order_id\n",
              "0        1         196                10  ...           0.776480     train   1187899\n",
              "1        1       10258                 9  ...           0.713772     train   1187899\n",
              "2        1       10326                 1  ...           0.652009     train   1187899\n",
              "3        1       12427                10  ...           0.740735     train   1187899\n",
              "4        1       13032                 3  ...           0.657158     train   1187899\n",
              "\n",
              "[5 rows x 12 columns]"
            ]
          },
          "metadata": {
            "tags": []
          },
          "execution_count": 24
        }
      ]
    },
    {
      "cell_type": "code",
      "metadata": {
        "id": "SosBPPqCPPhu",
        "colab_type": "code",
        "outputId": "5483b4e4-d2ee-4843-b408-d4d116767247",
        "colab": {
          "base_uri": "https://localhost:8080/",
          "height": 224
        }
      },
      "source": [
        "#preparing the train df.\n",
        "data_train = data[data.eval_set == 'train']\n",
        "data_train.head()"
      ],
      "execution_count": 0,
      "outputs": [
        {
          "output_type": "execute_result",
          "data": {
            "text/html": [
              "<div>\n",
              "<style scoped>\n",
              "    .dataframe tbody tr th:only-of-type {\n",
              "        vertical-align: middle;\n",
              "    }\n",
              "\n",
              "    .dataframe tbody tr th {\n",
              "        vertical-align: top;\n",
              "    }\n",
              "\n",
              "    .dataframe thead th {\n",
              "        text-align: right;\n",
              "    }\n",
              "</style>\n",
              "<table border=\"1\" class=\"dataframe\">\n",
              "  <thead>\n",
              "    <tr style=\"text-align: right;\">\n",
              "      <th></th>\n",
              "      <th>user_id</th>\n",
              "      <th>product_id</th>\n",
              "      <th>uxp_times_bought</th>\n",
              "      <th>uxp_reordered_ratio</th>\n",
              "      <th>u_num_of_orders</th>\n",
              "      <th>u_avg_prd</th>\n",
              "      <th>dow_most_orders_u</th>\n",
              "      <th>hod_most_orders_u</th>\n",
              "      <th>prd_count_p</th>\n",
              "      <th>p_reordered_ratio</th>\n",
              "      <th>eval_set</th>\n",
              "      <th>order_id</th>\n",
              "    </tr>\n",
              "  </thead>\n",
              "  <tbody>\n",
              "    <tr>\n",
              "      <th>0</th>\n",
              "      <td>1</td>\n",
              "      <td>196</td>\n",
              "      <td>10</td>\n",
              "      <td>0.900000</td>\n",
              "      <td>10</td>\n",
              "      <td>5.9</td>\n",
              "      <td>4</td>\n",
              "      <td>7</td>\n",
              "      <td>35791</td>\n",
              "      <td>0.776480</td>\n",
              "      <td>train</td>\n",
              "      <td>1187899</td>\n",
              "    </tr>\n",
              "    <tr>\n",
              "      <th>1</th>\n",
              "      <td>1</td>\n",
              "      <td>10258</td>\n",
              "      <td>9</td>\n",
              "      <td>0.888889</td>\n",
              "      <td>10</td>\n",
              "      <td>5.9</td>\n",
              "      <td>4</td>\n",
              "      <td>7</td>\n",
              "      <td>1946</td>\n",
              "      <td>0.713772</td>\n",
              "      <td>train</td>\n",
              "      <td>1187899</td>\n",
              "    </tr>\n",
              "    <tr>\n",
              "      <th>2</th>\n",
              "      <td>1</td>\n",
              "      <td>10326</td>\n",
              "      <td>1</td>\n",
              "      <td>0.000000</td>\n",
              "      <td>10</td>\n",
              "      <td>5.9</td>\n",
              "      <td>4</td>\n",
              "      <td>7</td>\n",
              "      <td>5526</td>\n",
              "      <td>0.652009</td>\n",
              "      <td>train</td>\n",
              "      <td>1187899</td>\n",
              "    </tr>\n",
              "    <tr>\n",
              "      <th>3</th>\n",
              "      <td>1</td>\n",
              "      <td>12427</td>\n",
              "      <td>10</td>\n",
              "      <td>0.900000</td>\n",
              "      <td>10</td>\n",
              "      <td>5.9</td>\n",
              "      <td>4</td>\n",
              "      <td>7</td>\n",
              "      <td>6476</td>\n",
              "      <td>0.740735</td>\n",
              "      <td>train</td>\n",
              "      <td>1187899</td>\n",
              "    </tr>\n",
              "    <tr>\n",
              "      <th>4</th>\n",
              "      <td>1</td>\n",
              "      <td>13032</td>\n",
              "      <td>3</td>\n",
              "      <td>0.666667</td>\n",
              "      <td>10</td>\n",
              "      <td>5.9</td>\n",
              "      <td>4</td>\n",
              "      <td>7</td>\n",
              "      <td>3751</td>\n",
              "      <td>0.657158</td>\n",
              "      <td>train</td>\n",
              "      <td>1187899</td>\n",
              "    </tr>\n",
              "  </tbody>\n",
              "</table>\n",
              "</div>"
            ],
            "text/plain": [
              "   user_id  product_id  uxp_times_bought  ...  p_reordered_ratio  eval_set  order_id\n",
              "0        1         196                10  ...           0.776480     train   1187899\n",
              "1        1       10258                 9  ...           0.713772     train   1187899\n",
              "2        1       10326                 1  ...           0.652009     train   1187899\n",
              "3        1       12427                10  ...           0.740735     train   1187899\n",
              "4        1       13032                 3  ...           0.657158     train   1187899\n",
              "\n",
              "[5 rows x 12 columns]"
            ]
          },
          "metadata": {
            "tags": []
          },
          "execution_count": 25
        }
      ]
    },
    {
      "cell_type": "code",
      "metadata": {
        "id": "8550Mm6TPSmZ",
        "colab_type": "code",
        "outputId": "e3b35d04-97ec-4c10-fc46-a00cb8de27a1",
        "colab": {
          "base_uri": "https://localhost:8080/",
          "height": 224
        }
      },
      "source": [
        "#merging the information from the order_proucts_train df into the data_train.\n",
        "data_train = data_train.merge(order_products_train[['product_id', 'order_id', 'reordered']], on=['product_id', 'order_id'], how='left')\n",
        "data_train.head()"
      ],
      "execution_count": 0,
      "outputs": [
        {
          "output_type": "execute_result",
          "data": {
            "text/html": [
              "<div>\n",
              "<style scoped>\n",
              "    .dataframe tbody tr th:only-of-type {\n",
              "        vertical-align: middle;\n",
              "    }\n",
              "\n",
              "    .dataframe tbody tr th {\n",
              "        vertical-align: top;\n",
              "    }\n",
              "\n",
              "    .dataframe thead th {\n",
              "        text-align: right;\n",
              "    }\n",
              "</style>\n",
              "<table border=\"1\" class=\"dataframe\">\n",
              "  <thead>\n",
              "    <tr style=\"text-align: right;\">\n",
              "      <th></th>\n",
              "      <th>user_id</th>\n",
              "      <th>product_id</th>\n",
              "      <th>uxp_times_bought</th>\n",
              "      <th>uxp_reordered_ratio</th>\n",
              "      <th>u_num_of_orders</th>\n",
              "      <th>u_avg_prd</th>\n",
              "      <th>dow_most_orders_u</th>\n",
              "      <th>hod_most_orders_u</th>\n",
              "      <th>prd_count_p</th>\n",
              "      <th>p_reordered_ratio</th>\n",
              "      <th>eval_set</th>\n",
              "      <th>order_id</th>\n",
              "      <th>reordered</th>\n",
              "    </tr>\n",
              "  </thead>\n",
              "  <tbody>\n",
              "    <tr>\n",
              "      <th>0</th>\n",
              "      <td>1</td>\n",
              "      <td>196</td>\n",
              "      <td>10</td>\n",
              "      <td>0.900000</td>\n",
              "      <td>10</td>\n",
              "      <td>5.9</td>\n",
              "      <td>4</td>\n",
              "      <td>7</td>\n",
              "      <td>35791</td>\n",
              "      <td>0.776480</td>\n",
              "      <td>train</td>\n",
              "      <td>1187899</td>\n",
              "      <td>1.0</td>\n",
              "    </tr>\n",
              "    <tr>\n",
              "      <th>1</th>\n",
              "      <td>1</td>\n",
              "      <td>10258</td>\n",
              "      <td>9</td>\n",
              "      <td>0.888889</td>\n",
              "      <td>10</td>\n",
              "      <td>5.9</td>\n",
              "      <td>4</td>\n",
              "      <td>7</td>\n",
              "      <td>1946</td>\n",
              "      <td>0.713772</td>\n",
              "      <td>train</td>\n",
              "      <td>1187899</td>\n",
              "      <td>1.0</td>\n",
              "    </tr>\n",
              "    <tr>\n",
              "      <th>2</th>\n",
              "      <td>1</td>\n",
              "      <td>10326</td>\n",
              "      <td>1</td>\n",
              "      <td>0.000000</td>\n",
              "      <td>10</td>\n",
              "      <td>5.9</td>\n",
              "      <td>4</td>\n",
              "      <td>7</td>\n",
              "      <td>5526</td>\n",
              "      <td>0.652009</td>\n",
              "      <td>train</td>\n",
              "      <td>1187899</td>\n",
              "      <td>NaN</td>\n",
              "    </tr>\n",
              "    <tr>\n",
              "      <th>3</th>\n",
              "      <td>1</td>\n",
              "      <td>12427</td>\n",
              "      <td>10</td>\n",
              "      <td>0.900000</td>\n",
              "      <td>10</td>\n",
              "      <td>5.9</td>\n",
              "      <td>4</td>\n",
              "      <td>7</td>\n",
              "      <td>6476</td>\n",
              "      <td>0.740735</td>\n",
              "      <td>train</td>\n",
              "      <td>1187899</td>\n",
              "      <td>NaN</td>\n",
              "    </tr>\n",
              "    <tr>\n",
              "      <th>4</th>\n",
              "      <td>1</td>\n",
              "      <td>13032</td>\n",
              "      <td>3</td>\n",
              "      <td>0.666667</td>\n",
              "      <td>10</td>\n",
              "      <td>5.9</td>\n",
              "      <td>4</td>\n",
              "      <td>7</td>\n",
              "      <td>3751</td>\n",
              "      <td>0.657158</td>\n",
              "      <td>train</td>\n",
              "      <td>1187899</td>\n",
              "      <td>1.0</td>\n",
              "    </tr>\n",
              "  </tbody>\n",
              "</table>\n",
              "</div>"
            ],
            "text/plain": [
              "   user_id  product_id  uxp_times_bought  ...  eval_set  order_id  reordered\n",
              "0        1         196                10  ...     train   1187899        1.0\n",
              "1        1       10258                 9  ...     train   1187899        1.0\n",
              "2        1       10326                 1  ...     train   1187899        NaN\n",
              "3        1       12427                10  ...     train   1187899        NaN\n",
              "4        1       13032                 3  ...     train   1187899        1.0\n",
              "\n",
              "[5 rows x 13 columns]"
            ]
          },
          "metadata": {
            "tags": []
          },
          "execution_count": 26
        }
      ]
    },
    {
      "cell_type": "code",
      "metadata": {
        "id": "hcVwuePJPUs3",
        "colab_type": "code",
        "colab": {}
      },
      "source": [
        "#filling the NAN values\n",
        "data_train.reordered.fillna(0, inplace=True)"
      ],
      "execution_count": 0,
      "outputs": []
    },
    {
      "cell_type": "code",
      "metadata": {
        "id": "OyT_1goSPZ38",
        "colab_type": "code",
        "colab": {}
      },
      "source": [
        "#setting user_id and product_id as index.\n",
        "data_train = data_train.set_index(['user_id', 'product_id'])\n",
        "\n",
        "#deleting eval_set, order_id as they are not needed for training.\n",
        "data_train.drop(['eval_set', 'order_id'], axis=1, inplace=True)"
      ],
      "execution_count": 0,
      "outputs": []
    },
    {
      "cell_type": "code",
      "metadata": {
        "id": "rzxWsEWePa-d",
        "colab_type": "code",
        "outputId": "7f172bb3-c1e6-4aef-a9ca-dcdbc910bc6b",
        "colab": {
          "base_uri": "https://localhost:8080/",
          "height": 255
        }
      },
      "source": [
        "data_train.head()"
      ],
      "execution_count": 0,
      "outputs": [
        {
          "output_type": "execute_result",
          "data": {
            "text/html": [
              "<div>\n",
              "<style scoped>\n",
              "    .dataframe tbody tr th:only-of-type {\n",
              "        vertical-align: middle;\n",
              "    }\n",
              "\n",
              "    .dataframe tbody tr th {\n",
              "        vertical-align: top;\n",
              "    }\n",
              "\n",
              "    .dataframe thead th {\n",
              "        text-align: right;\n",
              "    }\n",
              "</style>\n",
              "<table border=\"1\" class=\"dataframe\">\n",
              "  <thead>\n",
              "    <tr style=\"text-align: right;\">\n",
              "      <th></th>\n",
              "      <th></th>\n",
              "      <th>uxp_times_bought</th>\n",
              "      <th>uxp_reordered_ratio</th>\n",
              "      <th>u_num_of_orders</th>\n",
              "      <th>u_avg_prd</th>\n",
              "      <th>dow_most_orders_u</th>\n",
              "      <th>hod_most_orders_u</th>\n",
              "      <th>prd_count_p</th>\n",
              "      <th>p_reordered_ratio</th>\n",
              "      <th>reordered</th>\n",
              "    </tr>\n",
              "    <tr>\n",
              "      <th>user_id</th>\n",
              "      <th>product_id</th>\n",
              "      <th></th>\n",
              "      <th></th>\n",
              "      <th></th>\n",
              "      <th></th>\n",
              "      <th></th>\n",
              "      <th></th>\n",
              "      <th></th>\n",
              "      <th></th>\n",
              "      <th></th>\n",
              "    </tr>\n",
              "  </thead>\n",
              "  <tbody>\n",
              "    <tr>\n",
              "      <th rowspan=\"5\" valign=\"top\">1</th>\n",
              "      <th>196</th>\n",
              "      <td>10</td>\n",
              "      <td>0.900000</td>\n",
              "      <td>10</td>\n",
              "      <td>5.9</td>\n",
              "      <td>4</td>\n",
              "      <td>7</td>\n",
              "      <td>35791</td>\n",
              "      <td>0.776480</td>\n",
              "      <td>1.0</td>\n",
              "    </tr>\n",
              "    <tr>\n",
              "      <th>10258</th>\n",
              "      <td>9</td>\n",
              "      <td>0.888889</td>\n",
              "      <td>10</td>\n",
              "      <td>5.9</td>\n",
              "      <td>4</td>\n",
              "      <td>7</td>\n",
              "      <td>1946</td>\n",
              "      <td>0.713772</td>\n",
              "      <td>1.0</td>\n",
              "    </tr>\n",
              "    <tr>\n",
              "      <th>10326</th>\n",
              "      <td>1</td>\n",
              "      <td>0.000000</td>\n",
              "      <td>10</td>\n",
              "      <td>5.9</td>\n",
              "      <td>4</td>\n",
              "      <td>7</td>\n",
              "      <td>5526</td>\n",
              "      <td>0.652009</td>\n",
              "      <td>0.0</td>\n",
              "    </tr>\n",
              "    <tr>\n",
              "      <th>12427</th>\n",
              "      <td>10</td>\n",
              "      <td>0.900000</td>\n",
              "      <td>10</td>\n",
              "      <td>5.9</td>\n",
              "      <td>4</td>\n",
              "      <td>7</td>\n",
              "      <td>6476</td>\n",
              "      <td>0.740735</td>\n",
              "      <td>0.0</td>\n",
              "    </tr>\n",
              "    <tr>\n",
              "      <th>13032</th>\n",
              "      <td>3</td>\n",
              "      <td>0.666667</td>\n",
              "      <td>10</td>\n",
              "      <td>5.9</td>\n",
              "      <td>4</td>\n",
              "      <td>7</td>\n",
              "      <td>3751</td>\n",
              "      <td>0.657158</td>\n",
              "      <td>1.0</td>\n",
              "    </tr>\n",
              "  </tbody>\n",
              "</table>\n",
              "</div>"
            ],
            "text/plain": [
              "                    uxp_times_bought  ...  reordered\n",
              "user_id product_id                    ...           \n",
              "1       196                       10  ...        1.0\n",
              "        10258                      9  ...        1.0\n",
              "        10326                      1  ...        0.0\n",
              "        12427                     10  ...        0.0\n",
              "        13032                      3  ...        1.0\n",
              "\n",
              "[5 rows x 9 columns]"
            ]
          },
          "metadata": {
            "tags": []
          },
          "execution_count": 29
        }
      ]
    },
    {
      "cell_type": "code",
      "metadata": {
        "id": "iq4mWIp9Pfyj",
        "colab_type": "code",
        "outputId": "ca8e2fe6-c755-4fb1-8c4c-b5e799093d5b",
        "colab": {
          "base_uri": "https://localhost:8080/",
          "height": 224
        }
      },
      "source": [
        "#preparing the test dataset.\n",
        "data_test = data[data.eval_set == 'test']\n",
        "data_test.head()"
      ],
      "execution_count": 0,
      "outputs": [
        {
          "output_type": "execute_result",
          "data": {
            "text/html": [
              "<div>\n",
              "<style scoped>\n",
              "    .dataframe tbody tr th:only-of-type {\n",
              "        vertical-align: middle;\n",
              "    }\n",
              "\n",
              "    .dataframe tbody tr th {\n",
              "        vertical-align: top;\n",
              "    }\n",
              "\n",
              "    .dataframe thead th {\n",
              "        text-align: right;\n",
              "    }\n",
              "</style>\n",
              "<table border=\"1\" class=\"dataframe\">\n",
              "  <thead>\n",
              "    <tr style=\"text-align: right;\">\n",
              "      <th></th>\n",
              "      <th>user_id</th>\n",
              "      <th>product_id</th>\n",
              "      <th>uxp_times_bought</th>\n",
              "      <th>uxp_reordered_ratio</th>\n",
              "      <th>u_num_of_orders</th>\n",
              "      <th>u_avg_prd</th>\n",
              "      <th>dow_most_orders_u</th>\n",
              "      <th>hod_most_orders_u</th>\n",
              "      <th>prd_count_p</th>\n",
              "      <th>p_reordered_ratio</th>\n",
              "      <th>eval_set</th>\n",
              "      <th>order_id</th>\n",
              "    </tr>\n",
              "  </thead>\n",
              "  <tbody>\n",
              "    <tr>\n",
              "      <th>120</th>\n",
              "      <td>3</td>\n",
              "      <td>248</td>\n",
              "      <td>1</td>\n",
              "      <td>0.000000</td>\n",
              "      <td>12</td>\n",
              "      <td>7.333333</td>\n",
              "      <td>0</td>\n",
              "      <td>16</td>\n",
              "      <td>6371</td>\n",
              "      <td>0.400251</td>\n",
              "      <td>test</td>\n",
              "      <td>2774568</td>\n",
              "    </tr>\n",
              "    <tr>\n",
              "      <th>121</th>\n",
              "      <td>3</td>\n",
              "      <td>1005</td>\n",
              "      <td>1</td>\n",
              "      <td>0.000000</td>\n",
              "      <td>12</td>\n",
              "      <td>7.333333</td>\n",
              "      <td>0</td>\n",
              "      <td>16</td>\n",
              "      <td>463</td>\n",
              "      <td>0.440605</td>\n",
              "      <td>test</td>\n",
              "      <td>2774568</td>\n",
              "    </tr>\n",
              "    <tr>\n",
              "      <th>122</th>\n",
              "      <td>3</td>\n",
              "      <td>1819</td>\n",
              "      <td>3</td>\n",
              "      <td>0.666667</td>\n",
              "      <td>12</td>\n",
              "      <td>7.333333</td>\n",
              "      <td>0</td>\n",
              "      <td>16</td>\n",
              "      <td>2424</td>\n",
              "      <td>0.492162</td>\n",
              "      <td>test</td>\n",
              "      <td>2774568</td>\n",
              "    </tr>\n",
              "    <tr>\n",
              "      <th>123</th>\n",
              "      <td>3</td>\n",
              "      <td>7503</td>\n",
              "      <td>1</td>\n",
              "      <td>0.000000</td>\n",
              "      <td>12</td>\n",
              "      <td>7.333333</td>\n",
              "      <td>0</td>\n",
              "      <td>16</td>\n",
              "      <td>12474</td>\n",
              "      <td>0.553551</td>\n",
              "      <td>test</td>\n",
              "      <td>2774568</td>\n",
              "    </tr>\n",
              "    <tr>\n",
              "      <th>124</th>\n",
              "      <td>3</td>\n",
              "      <td>8021</td>\n",
              "      <td>1</td>\n",
              "      <td>0.000000</td>\n",
              "      <td>12</td>\n",
              "      <td>7.333333</td>\n",
              "      <td>0</td>\n",
              "      <td>16</td>\n",
              "      <td>27864</td>\n",
              "      <td>0.591157</td>\n",
              "      <td>test</td>\n",
              "      <td>2774568</td>\n",
              "    </tr>\n",
              "  </tbody>\n",
              "</table>\n",
              "</div>"
            ],
            "text/plain": [
              "     user_id  product_id  ...  eval_set  order_id\n",
              "120        3         248  ...      test   2774568\n",
              "121        3        1005  ...      test   2774568\n",
              "122        3        1819  ...      test   2774568\n",
              "123        3        7503  ...      test   2774568\n",
              "124        3        8021  ...      test   2774568\n",
              "\n",
              "[5 rows x 12 columns]"
            ]
          },
          "metadata": {
            "tags": []
          },
          "execution_count": 30
        }
      ]
    },
    {
      "cell_type": "code",
      "metadata": {
        "id": "n9UvqZlyPjMW",
        "colab_type": "code",
        "outputId": "3adbfdd1-7d96-4208-c36c-371524004594",
        "colab": {
          "base_uri": "https://localhost:8080/",
          "height": 102
        }
      },
      "source": [
        "#deleting unwanted columns\n",
        "data_test.drop(['eval_set', 'order_id'], axis=1, inplace=True)"
      ],
      "execution_count": 0,
      "outputs": [
        {
          "output_type": "stream",
          "text": [
            "/usr/local/lib/python3.6/dist-packages/pandas/core/frame.py:3997: SettingWithCopyWarning: \n",
            "A value is trying to be set on a copy of a slice from a DataFrame\n",
            "\n",
            "See the caveats in the documentation: https://pandas.pydata.org/pandas-docs/stable/user_guide/indexing.html#returning-a-view-versus-a-copy\n",
            "  errors=errors,\n"
          ],
          "name": "stderr"
        }
      ]
    },
    {
      "cell_type": "code",
      "metadata": {
        "id": "uc5BljqVPnqT",
        "colab_type": "code",
        "colab": {}
      },
      "source": [
        "#setting user_id and product_id as index.\n",
        "data_test = data_test.set_index(['user_id', 'product_id'])"
      ],
      "execution_count": 0,
      "outputs": []
    },
    {
      "cell_type": "code",
      "metadata": {
        "id": "V0GQthABPqiq",
        "colab_type": "code",
        "outputId": "cefce3a2-371a-46a2-dfeb-0c9729bb13e3",
        "colab": {
          "base_uri": "https://localhost:8080/",
          "height": 235
        }
      },
      "source": [
        "data_test.head()"
      ],
      "execution_count": 0,
      "outputs": [
        {
          "output_type": "execute_result",
          "data": {
            "text/html": [
              "<div>\n",
              "<style scoped>\n",
              "    .dataframe tbody tr th:only-of-type {\n",
              "        vertical-align: middle;\n",
              "    }\n",
              "\n",
              "    .dataframe tbody tr th {\n",
              "        vertical-align: top;\n",
              "    }\n",
              "\n",
              "    .dataframe thead th {\n",
              "        text-align: right;\n",
              "    }\n",
              "</style>\n",
              "<table border=\"1\" class=\"dataframe\">\n",
              "  <thead>\n",
              "    <tr style=\"text-align: right;\">\n",
              "      <th></th>\n",
              "      <th></th>\n",
              "      <th>uxp_times_bought</th>\n",
              "      <th>uxp_reordered_ratio</th>\n",
              "      <th>u_num_of_orders</th>\n",
              "      <th>u_avg_prd</th>\n",
              "      <th>dow_most_orders_u</th>\n",
              "      <th>hod_most_orders_u</th>\n",
              "      <th>prd_count_p</th>\n",
              "      <th>p_reordered_ratio</th>\n",
              "    </tr>\n",
              "    <tr>\n",
              "      <th>user_id</th>\n",
              "      <th>product_id</th>\n",
              "      <th></th>\n",
              "      <th></th>\n",
              "      <th></th>\n",
              "      <th></th>\n",
              "      <th></th>\n",
              "      <th></th>\n",
              "      <th></th>\n",
              "      <th></th>\n",
              "    </tr>\n",
              "  </thead>\n",
              "  <tbody>\n",
              "    <tr>\n",
              "      <th rowspan=\"5\" valign=\"top\">3</th>\n",
              "      <th>248</th>\n",
              "      <td>1</td>\n",
              "      <td>0.000000</td>\n",
              "      <td>12</td>\n",
              "      <td>7.333333</td>\n",
              "      <td>0</td>\n",
              "      <td>16</td>\n",
              "      <td>6371</td>\n",
              "      <td>0.400251</td>\n",
              "    </tr>\n",
              "    <tr>\n",
              "      <th>1005</th>\n",
              "      <td>1</td>\n",
              "      <td>0.000000</td>\n",
              "      <td>12</td>\n",
              "      <td>7.333333</td>\n",
              "      <td>0</td>\n",
              "      <td>16</td>\n",
              "      <td>463</td>\n",
              "      <td>0.440605</td>\n",
              "    </tr>\n",
              "    <tr>\n",
              "      <th>1819</th>\n",
              "      <td>3</td>\n",
              "      <td>0.666667</td>\n",
              "      <td>12</td>\n",
              "      <td>7.333333</td>\n",
              "      <td>0</td>\n",
              "      <td>16</td>\n",
              "      <td>2424</td>\n",
              "      <td>0.492162</td>\n",
              "    </tr>\n",
              "    <tr>\n",
              "      <th>7503</th>\n",
              "      <td>1</td>\n",
              "      <td>0.000000</td>\n",
              "      <td>12</td>\n",
              "      <td>7.333333</td>\n",
              "      <td>0</td>\n",
              "      <td>16</td>\n",
              "      <td>12474</td>\n",
              "      <td>0.553551</td>\n",
              "    </tr>\n",
              "    <tr>\n",
              "      <th>8021</th>\n",
              "      <td>1</td>\n",
              "      <td>0.000000</td>\n",
              "      <td>12</td>\n",
              "      <td>7.333333</td>\n",
              "      <td>0</td>\n",
              "      <td>16</td>\n",
              "      <td>27864</td>\n",
              "      <td>0.591157</td>\n",
              "    </tr>\n",
              "  </tbody>\n",
              "</table>\n",
              "</div>"
            ],
            "text/plain": [
              "                    uxp_times_bought  ...  p_reordered_ratio\n",
              "user_id product_id                    ...                   \n",
              "3       248                        1  ...           0.400251\n",
              "        1005                       1  ...           0.440605\n",
              "        1819                       3  ...           0.492162\n",
              "        7503                       1  ...           0.553551\n",
              "        8021                       1  ...           0.591157\n",
              "\n",
              "[5 rows x 8 columns]"
            ]
          },
          "metadata": {
            "tags": []
          },
          "execution_count": 33
        }
      ]
    },
    {
      "cell_type": "code",
      "metadata": {
        "id": "SaTrNliMPuKl",
        "colab_type": "code",
        "colab": {}
      },
      "source": [
        "#deleting unwanted df\n",
        "del [aisles, departments, order_products_prior, order_products_train, orders, order_future, data] #order_future, data"
      ],
      "execution_count": 0,
      "outputs": []
    },
    {
      "cell_type": "code",
      "metadata": {
        "id": "B8gbVCdZPyC-",
        "colab_type": "code",
        "colab": {}
      },
      "source": [
        "#resetting index\n",
        "data_train.reset_index(inplace=True)\n",
        "data_test.reset_index(inplace=True)"
      ],
      "execution_count": 0,
      "outputs": []
    },
    {
      "cell_type": "code",
      "metadata": {
        "id": "Lfr2CL54P0Zu",
        "colab_type": "code",
        "outputId": "605418d5-0dda-4c00-de6f-4e0ff399f3aa",
        "colab": {
          "base_uri": "https://localhost:8080/",
          "height": 224
        }
      },
      "source": [
        "data_train.head()"
      ],
      "execution_count": 0,
      "outputs": [
        {
          "output_type": "execute_result",
          "data": {
            "text/html": [
              "<div>\n",
              "<style scoped>\n",
              "    .dataframe tbody tr th:only-of-type {\n",
              "        vertical-align: middle;\n",
              "    }\n",
              "\n",
              "    .dataframe tbody tr th {\n",
              "        vertical-align: top;\n",
              "    }\n",
              "\n",
              "    .dataframe thead th {\n",
              "        text-align: right;\n",
              "    }\n",
              "</style>\n",
              "<table border=\"1\" class=\"dataframe\">\n",
              "  <thead>\n",
              "    <tr style=\"text-align: right;\">\n",
              "      <th></th>\n",
              "      <th>user_id</th>\n",
              "      <th>product_id</th>\n",
              "      <th>uxp_times_bought</th>\n",
              "      <th>uxp_reordered_ratio</th>\n",
              "      <th>u_num_of_orders</th>\n",
              "      <th>u_avg_prd</th>\n",
              "      <th>dow_most_orders_u</th>\n",
              "      <th>hod_most_orders_u</th>\n",
              "      <th>prd_count_p</th>\n",
              "      <th>p_reordered_ratio</th>\n",
              "      <th>reordered</th>\n",
              "    </tr>\n",
              "  </thead>\n",
              "  <tbody>\n",
              "    <tr>\n",
              "      <th>0</th>\n",
              "      <td>1</td>\n",
              "      <td>196</td>\n",
              "      <td>10</td>\n",
              "      <td>0.900000</td>\n",
              "      <td>10</td>\n",
              "      <td>5.9</td>\n",
              "      <td>4</td>\n",
              "      <td>7</td>\n",
              "      <td>35791</td>\n",
              "      <td>0.776480</td>\n",
              "      <td>1.0</td>\n",
              "    </tr>\n",
              "    <tr>\n",
              "      <th>1</th>\n",
              "      <td>1</td>\n",
              "      <td>10258</td>\n",
              "      <td>9</td>\n",
              "      <td>0.888889</td>\n",
              "      <td>10</td>\n",
              "      <td>5.9</td>\n",
              "      <td>4</td>\n",
              "      <td>7</td>\n",
              "      <td>1946</td>\n",
              "      <td>0.713772</td>\n",
              "      <td>1.0</td>\n",
              "    </tr>\n",
              "    <tr>\n",
              "      <th>2</th>\n",
              "      <td>1</td>\n",
              "      <td>10326</td>\n",
              "      <td>1</td>\n",
              "      <td>0.000000</td>\n",
              "      <td>10</td>\n",
              "      <td>5.9</td>\n",
              "      <td>4</td>\n",
              "      <td>7</td>\n",
              "      <td>5526</td>\n",
              "      <td>0.652009</td>\n",
              "      <td>0.0</td>\n",
              "    </tr>\n",
              "    <tr>\n",
              "      <th>3</th>\n",
              "      <td>1</td>\n",
              "      <td>12427</td>\n",
              "      <td>10</td>\n",
              "      <td>0.900000</td>\n",
              "      <td>10</td>\n",
              "      <td>5.9</td>\n",
              "      <td>4</td>\n",
              "      <td>7</td>\n",
              "      <td>6476</td>\n",
              "      <td>0.740735</td>\n",
              "      <td>0.0</td>\n",
              "    </tr>\n",
              "    <tr>\n",
              "      <th>4</th>\n",
              "      <td>1</td>\n",
              "      <td>13032</td>\n",
              "      <td>3</td>\n",
              "      <td>0.666667</td>\n",
              "      <td>10</td>\n",
              "      <td>5.9</td>\n",
              "      <td>4</td>\n",
              "      <td>7</td>\n",
              "      <td>3751</td>\n",
              "      <td>0.657158</td>\n",
              "      <td>1.0</td>\n",
              "    </tr>\n",
              "  </tbody>\n",
              "</table>\n",
              "</div>"
            ],
            "text/plain": [
              "   user_id  product_id  ...  p_reordered_ratio  reordered\n",
              "0        1         196  ...           0.776480        1.0\n",
              "1        1       10258  ...           0.713772        1.0\n",
              "2        1       10326  ...           0.652009        0.0\n",
              "3        1       12427  ...           0.740735        0.0\n",
              "4        1       13032  ...           0.657158        1.0\n",
              "\n",
              "[5 rows x 11 columns]"
            ]
          },
          "metadata": {
            "tags": []
          },
          "execution_count": 36
        }
      ]
    },
    {
      "cell_type": "code",
      "metadata": {
        "id": "BILIqCHcP3sH",
        "colab_type": "code",
        "colab": {}
      },
      "source": [
        "#merging the aisles and department ids to with the train and test data\n",
        "data_train = data_train.merge(products[['product_id', 'aisle_id']], on='product_id', how='left')\n",
        "data_test = data_test.merge(products[['product_id', 'aisle_id']], on='product_id', how='left')"
      ],
      "execution_count": 0,
      "outputs": []
    },
    {
      "cell_type": "code",
      "metadata": {
        "id": "ppS8umtdP6Ms",
        "colab_type": "code",
        "colab": {}
      },
      "source": [
        "#department\n",
        "data_train = data_train.merge(products[['product_id', 'department_id']], on='product_id', how='left')\n",
        "data_test = data_test.merge(products[['product_id', 'department_id']], on='product_id', how='left')"
      ],
      "execution_count": 0,
      "outputs": []
    },
    {
      "cell_type": "code",
      "metadata": {
        "id": "NcD_FMA4P84q",
        "colab_type": "code",
        "colab": {}
      },
      "source": [
        "#setting user_id and product_id as index.\n",
        "data_test = data_test.set_index(['user_id', 'product_id'])\n",
        "#setting user_id and product_id as index.\n",
        "data_train = data_train.set_index(['user_id', 'product_id'])"
      ],
      "execution_count": 0,
      "outputs": []
    },
    {
      "cell_type": "markdown",
      "metadata": {
        "id": "XzBjFxjMP95b",
        "colab_type": "text"
      },
      "source": [
        "Creating Predictive model"
      ]
    },
    {
      "cell_type": "code",
      "metadata": {
        "id": "0VgT77bzP_1A",
        "colab_type": "code",
        "outputId": "36ac90d8-fe17-45bd-8c0d-a9c6cc1dab8a",
        "colab": {
          "base_uri": "https://localhost:8080/",
          "height": 54
        }
      },
      "source": [
        "#Building a XGBoost model.\n",
        "\n",
        "#importing the package.\n",
        "import xgboost as xgb\n",
        "\n",
        "#splitting the train data into training and testing set.\n",
        "X, y = data_train.drop('reordered', axis=1), data_train.reordered\n",
        "#splitting dataset into train and test split.\n",
        "X_train, X_test, y_train, y_test = train_test_split(X, y, test_size=0.3, random_state=10)\n",
        "\n",
        "#setting boosters parameters\n",
        "parameters = {\n",
        "    'eavl_metric' : 'logloss',\n",
        "    'max_depth' : 5,\n",
        "    'colsample_bytree' : 0.4,\n",
        "    'subsample' : 0.8\n",
        "}\n",
        "\n",
        "#instantiating the model\n",
        "xgb_clf = xgb.XGBClassifier(objective='binary:logistic', parameters=parameters, num_boost_round=10)\n",
        "\n",
        "# TRAIN MODEL\n",
        "model = xgb_clf.fit(X_train, y_train)\n"
      ],
      "execution_count": 0,
      "outputs": [
        {
          "output_type": "stream",
          "text": [
            "[06:58:50] WARNING: /workspace/src/learner.cc:686: Tree method is automatically selected to be 'approx' for faster speed. To use old behavior (exact greedy algorithm on single machine), set tree_method to 'exact'.\n"
          ],
          "name": "stdout"
        }
      ]
    },
    {
      "cell_type": "code",
      "metadata": {
        "id": "s9sDoyrt4REX",
        "colab_type": "code",
        "colab": {}
      },
      "source": [
        "#FEATURE IMPORTANCE - GRAPHICAL\n",
        "xgb.plot_importance(model)"
      ],
      "execution_count": 0,
      "outputs": []
    },
    {
      "cell_type": "code",
      "metadata": {
        "id": "d5TwTGppruKc",
        "colab_type": "code",
        "colab": {}
      },
      "source": [
        "from sklearn.model_selection import RandomizedSearchCV\n",
        "from sklearn.metrics import accuracy_score\n",
        "from sklearn.metrics import f1_score"
      ],
      "execution_count": 0,
      "outputs": []
    },
    {
      "cell_type": "code",
      "metadata": {
        "id": "cO_78sz4rv4H",
        "colab_type": "code",
        "colab": {}
      },
      "source": [
        "# testing the model\n",
        "y_pred = model.predict(X_test)\n",
        "# Accuracy calculation\n",
        "y_predit = model.predict(X_train)\n",
        "print(\"Train Accuracy:\",accuracy_score(y_train,y_predit))\n",
        "print(\"Test Accuracy:\", accuracy_score(y_test, y_pred))"
      ],
      "execution_count": 0,
      "outputs": []
    },
    {
      "cell_type": "code",
      "metadata": {
        "id": "dx0MALiCQOht",
        "colab_type": "code",
        "colab": {}
      },
      "source": [
        "#predicting on the testing data\n",
        "y_pred = xgb_clf.predict(data_test).astype('int')\n",
        "\n",
        "#setting a threshold.\n",
        "y_pred = (xgb_clf.predict_proba(data_test)[:, 1] >= 0.21).astype('int')\n",
        "y_pred[0:10]"
      ],
      "execution_count": 0,
      "outputs": []
    },
    {
      "cell_type": "code",
      "metadata": {
        "id": "yKdngnbZQWzv",
        "colab_type": "code",
        "colab": {}
      },
      "source": [
        "#saving the prediction as a new column in data_test\n",
        "data_test['prediction'] = y_pred\n",
        "data_test.head()"
      ],
      "execution_count": 0,
      "outputs": []
    },
    {
      "cell_type": "code",
      "metadata": {
        "id": "_tFPo7bdQaa3",
        "colab_type": "code",
        "colab": {}
      },
      "source": [
        "# Reset the index\n",
        "final = data_test.reset_index()\n",
        "# Keep only the required columns to create our submission file (for chapter 6)\n",
        "final = final[['product_id', 'user_id', 'prediction']]\n",
        "\n",
        "final.head()"
      ],
      "execution_count": 0,
      "outputs": []
    },
    {
      "cell_type": "code",
      "metadata": {
        "id": "Nz45suq4Qcg_",
        "colab_type": "code",
        "colab": {}
      },
      "source": [
        "#Creating a submission file\n",
        "orders = pd.read_csv('/content/drive/My Drive/Project_8/Dataset/orders.csv')\n",
        "orders_test = orders.loc[orders.eval_set == 'test', ['user_id', 'order_id']]\n",
        "orders_test.head()"
      ],
      "execution_count": 0,
      "outputs": []
    },
    {
      "cell_type": "code",
      "metadata": {
        "id": "Q0bZn78FQeow",
        "colab_type": "code",
        "colab": {}
      },
      "source": [
        "#merging our prediction with orders_test\n",
        "final = final.merge(orders_test, on='user_id', how='left')\n",
        "final.head()"
      ],
      "execution_count": 0,
      "outputs": []
    },
    {
      "cell_type": "code",
      "metadata": {
        "id": "v1NYGnHAQha9",
        "colab_type": "code",
        "colab": {}
      },
      "source": [
        "#remove user_id column\n",
        "final = final.drop('user_id', axis=1)\n",
        "#convert product_id as integer\n",
        "final['product_id'] = final.product_id.astype(int)\n",
        "\n",
        "## Remove all unnecessary objects\n",
        "del orders\n",
        "del orders_test\n",
        "\n",
        "final.head()"
      ],
      "execution_count": 0,
      "outputs": []
    },
    {
      "cell_type": "code",
      "metadata": {
        "id": "h37UK7gGQkpe",
        "colab_type": "code",
        "colab": {}
      },
      "source": [
        "d = dict()\n",
        "for row in final.itertuples():\n",
        "    if row.prediction== 1:\n",
        "        try:\n",
        "            d[row.order_id] += ' ' + str(row.product_id)\n",
        "        except:\n",
        "            d[row.order_id] = str(row.product_id)\n",
        "\n",
        "for order in final.order_id:\n",
        "    if order not in d:\n",
        "        d[order] = 'None'\n",
        "        \n",
        "\n",
        "#We now check how the dictionary were populated (open hidden output)\n",
        "d"
      ],
      "execution_count": 0,
      "outputs": []
    },
    {
      "cell_type": "code",
      "metadata": {
        "id": "Qv1CSBl9QqKH",
        "colab_type": "code",
        "colab": {}
      },
      "source": [
        "#Convert the dictionary into a DataFrame\n",
        "sub = pd.DataFrame.from_dict(d, orient='index')\n",
        "\n",
        "#Reset index\n",
        "sub.reset_index(inplace=True)\n",
        "#Set column names\n",
        "sub.columns = ['order_id', 'products']\n",
        "\n",
        "sub.head()"
      ],
      "execution_count": 0,
      "outputs": []
    },
    {
      "cell_type": "code",
      "metadata": {
        "id": "0yA1aXk_MCpH",
        "colab_type": "code",
        "colab": {}
      },
      "source": [
        "sub.sort_values(by=['order_id'], inplace=True)\n",
        "sub.head()"
      ],
      "execution_count": 0,
      "outputs": []
    },
    {
      "cell_type": "code",
      "metadata": {
        "id": "1zHv08JzQzGk",
        "colab_type": "code",
        "colab": {}
      },
      "source": [
        "new_df = pd.DataFrame(sub.products.str.split(' ').tolist(), index=sub.order_id).stack()\n",
        "new_df = new_df.reset_index([0, 'order_id'])\n",
        "new_df.columns = ['order_id', 'product_id']\n",
        "new_df.head(10)"
      ],
      "execution_count": 0,
      "outputs": []
    },
    {
      "cell_type": "code",
      "metadata": {
        "id": "FlrexmcEMoWr",
        "colab_type": "code",
        "colab": {}
      },
      "source": [
        "orders = pd.read_csv('/content/drive/My Drive/Project_8/Dataset/orders.csv')\n",
        "product=pd.read_csv('/content/drive/My Drive/Project_8/Dataset/products.csv')\n",
        "df = pd.merge(orders,new_df,on = 'order_id',how = 'right')\n",
        "df.drop(['eval_set', 'order_number','order_dow','order_hour_of_day','days_since_prior_order'], axis=1, inplace=True)\n",
        "df.head()"
      ],
      "execution_count": 0,
      "outputs": []
    },
    {
      "cell_type": "code",
      "metadata": {
        "id": "zjWhHMy85whB",
        "colab_type": "code",
        "colab": {}
      },
      "source": [
        "df.replace(to_replace=['None'], value=0, inplace=True)\n",
        "df[\"product_id\"] = df[\"product_id\"].astype(int)"
      ],
      "execution_count": 0,
      "outputs": []
    },
    {
      "cell_type": "code",
      "metadata": {
        "id": "_cbxQvck580a",
        "colab_type": "code",
        "colab": {}
      },
      "source": [
        "result = pd.merge(df,product,on='product_id',how='left')\n",
        "result.drop(['aisle_id', 'department_id'], axis=1, inplace=True)\n",
        "result[\"product_name\"].fillna(\"No products\", inplace = True) \n",
        "result.head(20)"
      ],
      "execution_count": 0,
      "outputs": []
    },
    {
      "cell_type": "code",
      "metadata": {
        "id": "fInXQFp--wvn",
        "colab_type": "code",
        "colab": {}
      },
      "source": [
        "result.to_csv('result.csv', index=False)"
      ],
      "execution_count": 0,
      "outputs": []
    },
    {
      "cell_type": "code",
      "metadata": {
        "id": "PLbpCxCqHkJT",
        "colab_type": "code",
        "colab": {}
      },
      "source": [
        ""
      ],
      "execution_count": 0,
      "outputs": []
    }
  ]
}